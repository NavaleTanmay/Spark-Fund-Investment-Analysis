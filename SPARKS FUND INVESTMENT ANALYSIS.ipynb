{
 "cells": [
  {
   "cell_type": "markdown",
   "id": "7fae1ef2",
   "metadata": {},
   "source": [
    "## <center><b>Spark's Fund Buisness Analysis</b></center>"
   ]
  },
  {
   "cell_type": "markdown",
   "id": "ee39a008",
   "metadata": {},
   "source": [
    "### Business objective: The objective is to identify the best sectors, countries, and a suitable investment type for making investments. The overall strategy is to invest where others are investing, implying that the 'best' sectors and countries are the ones 'where most investors are investing'."
   ]
  },
  {
   "cell_type": "markdown",
   "id": "744f8011",
   "metadata": {},
   "source": [
    "#### Checkpoint 1: Data Cleaning 1"
   ]
  },
  {
   "cell_type": "markdown",
   "id": "434209a8",
   "metadata": {},
   "source": [
    "\n",
    "- Load the companies and rounds data (provided on the previous page) into two data frames and name them companies and rounds2 respectively.\n",
    "- How many unique companies are present in rounds2?\n",
    "- How many unique companies are present in companies?\n",
    "- In the companies data frame, which column can be used as the unique key for each company? Write the name of the column.\n",
    "- Are there any companies in the rounds2 file which are not present in companies? Answer yes or no: Y/N\n",
    "- Merge the two data frames so that all variables (columns) in the companies frame are added to the rounds2 data frame. Name the merged frame master_frame. How many observations are present in master_frame?"
   ]
  },
  {
   "cell_type": "markdown",
   "id": "e8bf287a",
   "metadata": {},
   "source": [
    "##### Importing required libraries"
   ]
  },
  {
   "cell_type": "code",
   "execution_count": 1,
   "id": "d3287313",
   "metadata": {},
   "outputs": [],
   "source": [
    "import pandas as pd\n",
    "import numpy as np\n",
    "import seaborn as sns\n",
    "import matplotlib.pyplot as plt\n",
    "\n",
    "import warnings\n",
    "warnings.filterwarnings('ignore')"
   ]
  },
  {
   "cell_type": "code",
   "execution_count": 2,
   "id": "cff24d1e",
   "metadata": {},
   "outputs": [],
   "source": [
    "companies = pd.read_csv(\"D:/NIIT Tasks/Extra/Spark Funds Industrail Assigment/Spark Funds Industrial Assignment - 1/companies.txt\", sep = '\\t', encoding = \"ISO-8859-1\")\n",
    "rounds2 = pd.read_csv(\"D:/NIIT Tasks/Extra/Spark Funds Industrail Assigment/Spark Funds Industrial Assignment - 1/rounds2.csv\",encoding='unicode_escape')"
   ]
  },
  {
   "cell_type": "code",
   "execution_count": 3,
   "id": "83dc30ee",
   "metadata": {},
   "outputs": [
    {
     "data": {
      "text/html": [
       "<div>\n",
       "<style scoped>\n",
       "    .dataframe tbody tr th:only-of-type {\n",
       "        vertical-align: middle;\n",
       "    }\n",
       "\n",
       "    .dataframe tbody tr th {\n",
       "        vertical-align: top;\n",
       "    }\n",
       "\n",
       "    .dataframe thead th {\n",
       "        text-align: right;\n",
       "    }\n",
       "</style>\n",
       "<table border=\"1\" class=\"dataframe\">\n",
       "  <thead>\n",
       "    <tr style=\"text-align: right;\">\n",
       "      <th></th>\n",
       "      <th>permalink</th>\n",
       "      <th>name</th>\n",
       "      <th>homepage_url</th>\n",
       "      <th>category_list</th>\n",
       "      <th>status</th>\n",
       "      <th>country_code</th>\n",
       "      <th>state_code</th>\n",
       "      <th>region</th>\n",
       "      <th>city</th>\n",
       "      <th>founded_at</th>\n",
       "    </tr>\n",
       "  </thead>\n",
       "  <tbody>\n",
       "    <tr>\n",
       "      <th>0</th>\n",
       "      <td>/Organization/-Fame</td>\n",
       "      <td>#fame</td>\n",
       "      <td>http://livfame.com</td>\n",
       "      <td>Media</td>\n",
       "      <td>operating</td>\n",
       "      <td>IND</td>\n",
       "      <td>16</td>\n",
       "      <td>Mumbai</td>\n",
       "      <td>Mumbai</td>\n",
       "      <td>NaN</td>\n",
       "    </tr>\n",
       "    <tr>\n",
       "      <th>1</th>\n",
       "      <td>/Organization/-Qounter</td>\n",
       "      <td>:Qounter</td>\n",
       "      <td>http://www.qounter.com</td>\n",
       "      <td>Application Platforms|Real Time|Social Network...</td>\n",
       "      <td>operating</td>\n",
       "      <td>USA</td>\n",
       "      <td>DE</td>\n",
       "      <td>DE - Other</td>\n",
       "      <td>Delaware City</td>\n",
       "      <td>04-09-2014</td>\n",
       "    </tr>\n",
       "    <tr>\n",
       "      <th>2</th>\n",
       "      <td>/Organization/-The-One-Of-Them-Inc-</td>\n",
       "      <td>(THE) ONE of THEM,Inc.</td>\n",
       "      <td>http://oneofthem.jp</td>\n",
       "      <td>Apps|Games|Mobile</td>\n",
       "      <td>operating</td>\n",
       "      <td>NaN</td>\n",
       "      <td>NaN</td>\n",
       "      <td>NaN</td>\n",
       "      <td>NaN</td>\n",
       "      <td>NaN</td>\n",
       "    </tr>\n",
       "    <tr>\n",
       "      <th>3</th>\n",
       "      <td>/Organization/0-6-Com</td>\n",
       "      <td>0-6.com</td>\n",
       "      <td>http://www.0-6.com</td>\n",
       "      <td>Curated Web</td>\n",
       "      <td>operating</td>\n",
       "      <td>CHN</td>\n",
       "      <td>22</td>\n",
       "      <td>Beijing</td>\n",
       "      <td>Beijing</td>\n",
       "      <td>01-01-2007</td>\n",
       "    </tr>\n",
       "    <tr>\n",
       "      <th>4</th>\n",
       "      <td>/Organization/004-Technologies</td>\n",
       "      <td>004 Technologies</td>\n",
       "      <td>http://004gmbh.de/en/004-interact</td>\n",
       "      <td>Software</td>\n",
       "      <td>operating</td>\n",
       "      <td>USA</td>\n",
       "      <td>IL</td>\n",
       "      <td>Springfield, Illinois</td>\n",
       "      <td>Champaign</td>\n",
       "      <td>01-01-2010</td>\n",
       "    </tr>\n",
       "  </tbody>\n",
       "</table>\n",
       "</div>"
      ],
      "text/plain": [
       "                             permalink                    name  \\\n",
       "0                  /Organization/-Fame                   #fame   \n",
       "1               /Organization/-Qounter                :Qounter   \n",
       "2  /Organization/-The-One-Of-Them-Inc-  (THE) ONE of THEM,Inc.   \n",
       "3                /Organization/0-6-Com                 0-6.com   \n",
       "4       /Organization/004-Technologies        004 Technologies   \n",
       "\n",
       "                        homepage_url  \\\n",
       "0                 http://livfame.com   \n",
       "1             http://www.qounter.com   \n",
       "2                http://oneofthem.jp   \n",
       "3                 http://www.0-6.com   \n",
       "4  http://004gmbh.de/en/004-interact   \n",
       "\n",
       "                                       category_list     status country_code  \\\n",
       "0                                              Media  operating          IND   \n",
       "1  Application Platforms|Real Time|Social Network...  operating          USA   \n",
       "2                                  Apps|Games|Mobile  operating          NaN   \n",
       "3                                        Curated Web  operating          CHN   \n",
       "4                                           Software  operating          USA   \n",
       "\n",
       "  state_code                 region           city  founded_at  \n",
       "0         16                 Mumbai         Mumbai         NaN  \n",
       "1         DE             DE - Other  Delaware City  04-09-2014  \n",
       "2        NaN                    NaN            NaN         NaN  \n",
       "3         22                Beijing        Beijing  01-01-2007  \n",
       "4         IL  Springfield, Illinois      Champaign  01-01-2010  "
      ]
     },
     "execution_count": 3,
     "metadata": {},
     "output_type": "execute_result"
    }
   ],
   "source": [
    "companies.head()"
   ]
  },
  {
   "cell_type": "code",
   "execution_count": 4,
   "id": "d15a6a6d",
   "metadata": {},
   "outputs": [
    {
     "data": {
      "text/html": [
       "<div>\n",
       "<style scoped>\n",
       "    .dataframe tbody tr th:only-of-type {\n",
       "        vertical-align: middle;\n",
       "    }\n",
       "\n",
       "    .dataframe tbody tr th {\n",
       "        vertical-align: top;\n",
       "    }\n",
       "\n",
       "    .dataframe thead th {\n",
       "        text-align: right;\n",
       "    }\n",
       "</style>\n",
       "<table border=\"1\" class=\"dataframe\">\n",
       "  <thead>\n",
       "    <tr style=\"text-align: right;\">\n",
       "      <th></th>\n",
       "      <th>company_permalink</th>\n",
       "      <th>funding_round_permalink</th>\n",
       "      <th>funding_round_type</th>\n",
       "      <th>funding_round_code</th>\n",
       "      <th>funded_at</th>\n",
       "      <th>raised_amount_usd</th>\n",
       "    </tr>\n",
       "  </thead>\n",
       "  <tbody>\n",
       "    <tr>\n",
       "      <th>0</th>\n",
       "      <td>/organization/-fame</td>\n",
       "      <td>/funding-round/9a01d05418af9f794eebff7ace91f638</td>\n",
       "      <td>venture</td>\n",
       "      <td>B</td>\n",
       "      <td>05-01-2015</td>\n",
       "      <td>10000000.0</td>\n",
       "    </tr>\n",
       "    <tr>\n",
       "      <th>1</th>\n",
       "      <td>/ORGANIZATION/-QOUNTER</td>\n",
       "      <td>/funding-round/22dacff496eb7acb2b901dec1dfe5633</td>\n",
       "      <td>venture</td>\n",
       "      <td>A</td>\n",
       "      <td>14-10-2014</td>\n",
       "      <td>NaN</td>\n",
       "    </tr>\n",
       "    <tr>\n",
       "      <th>2</th>\n",
       "      <td>/organization/-qounter</td>\n",
       "      <td>/funding-round/b44fbb94153f6cdef13083530bb48030</td>\n",
       "      <td>seed</td>\n",
       "      <td>NaN</td>\n",
       "      <td>01-03-2014</td>\n",
       "      <td>700000.0</td>\n",
       "    </tr>\n",
       "    <tr>\n",
       "      <th>3</th>\n",
       "      <td>/ORGANIZATION/-THE-ONE-OF-THEM-INC-</td>\n",
       "      <td>/funding-round/650b8f704416801069bb178a1418776b</td>\n",
       "      <td>venture</td>\n",
       "      <td>B</td>\n",
       "      <td>30-01-2014</td>\n",
       "      <td>3406878.0</td>\n",
       "    </tr>\n",
       "    <tr>\n",
       "      <th>4</th>\n",
       "      <td>/organization/0-6-com</td>\n",
       "      <td>/funding-round/5727accaeaa57461bd22a9bdd945382d</td>\n",
       "      <td>venture</td>\n",
       "      <td>A</td>\n",
       "      <td>19-03-2008</td>\n",
       "      <td>2000000.0</td>\n",
       "    </tr>\n",
       "  </tbody>\n",
       "</table>\n",
       "</div>"
      ],
      "text/plain": [
       "                     company_permalink  \\\n",
       "0                  /organization/-fame   \n",
       "1               /ORGANIZATION/-QOUNTER   \n",
       "2               /organization/-qounter   \n",
       "3  /ORGANIZATION/-THE-ONE-OF-THEM-INC-   \n",
       "4                /organization/0-6-com   \n",
       "\n",
       "                           funding_round_permalink funding_round_type  \\\n",
       "0  /funding-round/9a01d05418af9f794eebff7ace91f638            venture   \n",
       "1  /funding-round/22dacff496eb7acb2b901dec1dfe5633            venture   \n",
       "2  /funding-round/b44fbb94153f6cdef13083530bb48030               seed   \n",
       "3  /funding-round/650b8f704416801069bb178a1418776b            venture   \n",
       "4  /funding-round/5727accaeaa57461bd22a9bdd945382d            venture   \n",
       "\n",
       "  funding_round_code   funded_at  raised_amount_usd  \n",
       "0                  B  05-01-2015         10000000.0  \n",
       "1                  A  14-10-2014                NaN  \n",
       "2                NaN  01-03-2014           700000.0  \n",
       "3                  B  30-01-2014          3406878.0  \n",
       "4                  A  19-03-2008          2000000.0  "
      ]
     },
     "execution_count": 4,
     "metadata": {},
     "output_type": "execute_result"
    }
   ],
   "source": [
    "rounds2.head()"
   ]
  },
  {
   "cell_type": "code",
   "execution_count": 5,
   "id": "75e3dba5",
   "metadata": {},
   "outputs": [
    {
     "name": "stdout",
     "output_type": "stream",
     "text": [
      "<class 'pandas.core.frame.DataFrame'>\n",
      "RangeIndex: 66368 entries, 0 to 66367\n",
      "Data columns (total 10 columns):\n",
      " #   Column         Non-Null Count  Dtype \n",
      "---  ------         --------------  ----- \n",
      " 0   permalink      66368 non-null  object\n",
      " 1   name           66367 non-null  object\n",
      " 2   homepage_url   61310 non-null  object\n",
      " 3   category_list  63220 non-null  object\n",
      " 4   status         66368 non-null  object\n",
      " 5   country_code   59410 non-null  object\n",
      " 6   state_code     57821 non-null  object\n",
      " 7   region         58338 non-null  object\n",
      " 8   city           58340 non-null  object\n",
      " 9   founded_at     51147 non-null  object\n",
      "dtypes: object(10)\n",
      "memory usage: 5.1+ MB\n"
     ]
    }
   ],
   "source": [
    "## Exploring the data\n",
    "companies.info()"
   ]
  },
  {
   "cell_type": "code",
   "execution_count": 6,
   "id": "3370e7cf",
   "metadata": {},
   "outputs": [
    {
     "name": "stdout",
     "output_type": "stream",
     "text": [
      "<class 'pandas.core.frame.DataFrame'>\n",
      "RangeIndex: 114949 entries, 0 to 114948\n",
      "Data columns (total 6 columns):\n",
      " #   Column                   Non-Null Count   Dtype  \n",
      "---  ------                   --------------   -----  \n",
      " 0   company_permalink        114949 non-null  object \n",
      " 1   funding_round_permalink  114949 non-null  object \n",
      " 2   funding_round_type       114949 non-null  object \n",
      " 3   funding_round_code       31140 non-null   object \n",
      " 4   funded_at                114949 non-null  object \n",
      " 5   raised_amount_usd        94959 non-null   float64\n",
      "dtypes: float64(1), object(5)\n",
      "memory usage: 5.3+ MB\n"
     ]
    }
   ],
   "source": [
    "rounds2.info()"
   ]
  },
  {
   "cell_type": "markdown",
   "id": "191feec7",
   "metadata": {},
   "source": [
    "##### 1.1 ) How many unique companies are present in rounds2?"
   ]
  },
  {
   "cell_type": "code",
   "execution_count": 7,
   "id": "9b4c20c8",
   "metadata": {},
   "outputs": [
    {
     "name": "stdout",
     "output_type": "stream",
     "text": [
      "There are 66370 unique companies present in rounds2.\n"
     ]
    }
   ],
   "source": [
    "a = len(rounds2.company_permalink.str.lower().unique())\n",
    "print(\"There are\", a , \"unique companies present in rounds2.\")"
   ]
  },
  {
   "cell_type": "markdown",
   "id": "f7dd5a62",
   "metadata": {},
   "source": [
    "##### 1.2 ) How many unique companies are present in companies?"
   ]
  },
  {
   "cell_type": "code",
   "execution_count": 8,
   "id": "f0f2363a",
   "metadata": {},
   "outputs": [
    {
     "name": "stdout",
     "output_type": "stream",
     "text": [
      "There are 66368 unique companies present in rounds2.\n"
     ]
    }
   ],
   "source": [
    "b = len(companies.permalink.str.lower().unique())\n",
    "print(\"There are\", b , \"unique companies present in rounds2.\")"
   ]
  },
  {
   "cell_type": "markdown",
   "id": "32c207de",
   "metadata": {},
   "source": [
    "##### 1.3) In the companies data frame, which column can be used as the unique key for each company? Write the name of the column."
   ]
  },
  {
   "cell_type": "markdown",
   "id": "5620b776",
   "metadata": {},
   "source": [
    "- \"company_permalink\" or \"permalink\" column cab be used as the unique key for each company"
   ]
  },
  {
   "cell_type": "markdown",
   "id": "c435e732",
   "metadata": {},
   "source": [
    "##### 1.4) Are there any companies in the rounds2 file which are not present in companies? Answer yes or no: Y/N"
   ]
  },
  {
   "cell_type": "code",
   "execution_count": 9,
   "id": "35fcb9d1",
   "metadata": {},
   "outputs": [
    {
     "name": "stdout",
     "output_type": "stream",
     "text": [
      " Yes, there are 2 companies present in rounds2 file which are not present in companies.\n"
     ]
    }
   ],
   "source": [
    "print(\" Yes, there are\", a-b, \"companies present in rounds2 file which are not present in companies.\")"
   ]
  },
  {
   "cell_type": "markdown",
   "id": "fbbd8bfd",
   "metadata": {},
   "source": [
    "##### 1.5) Merge the two data frames so that all variables (columns) in the companies frame are added to the rounds2 data frame. Name the merged frame master_frame. How many observations are present in master_frame?"
   ]
  },
  {
   "cell_type": "markdown",
   "id": "9bab8cde",
   "metadata": {},
   "source": [
    "- As the company is present in upper and lower cases in both the dataframes so converting it to lower so to get unique values "
   ]
  },
  {
   "cell_type": "code",
   "execution_count": 10,
   "id": "6df2a1b4",
   "metadata": {},
   "outputs": [],
   "source": [
    "companies['permalink'] = companies['permalink'].str.lower()\n",
    "rounds2['company_permalink'] = rounds2['company_permalink'].str.lower()"
   ]
  },
  {
   "cell_type": "code",
   "execution_count": 11,
   "id": "dd90562f",
   "metadata": {},
   "outputs": [
    {
     "data": {
      "text/html": [
       "<div>\n",
       "<style scoped>\n",
       "    .dataframe tbody tr th:only-of-type {\n",
       "        vertical-align: middle;\n",
       "    }\n",
       "\n",
       "    .dataframe tbody tr th {\n",
       "        vertical-align: top;\n",
       "    }\n",
       "\n",
       "    .dataframe thead th {\n",
       "        text-align: right;\n",
       "    }\n",
       "</style>\n",
       "<table border=\"1\" class=\"dataframe\">\n",
       "  <thead>\n",
       "    <tr style=\"text-align: right;\">\n",
       "      <th></th>\n",
       "      <th>company_permalink</th>\n",
       "      <th>funding_round_permalink</th>\n",
       "      <th>funding_round_type</th>\n",
       "      <th>funding_round_code</th>\n",
       "      <th>funded_at</th>\n",
       "      <th>raised_amount_usd</th>\n",
       "      <th>permalink</th>\n",
       "      <th>name</th>\n",
       "      <th>homepage_url</th>\n",
       "      <th>category_list</th>\n",
       "      <th>status</th>\n",
       "      <th>country_code</th>\n",
       "      <th>state_code</th>\n",
       "      <th>region</th>\n",
       "      <th>city</th>\n",
       "      <th>founded_at</th>\n",
       "    </tr>\n",
       "  </thead>\n",
       "  <tbody>\n",
       "    <tr>\n",
       "      <th>0</th>\n",
       "      <td>/organization/-fame</td>\n",
       "      <td>/funding-round/9a01d05418af9f794eebff7ace91f638</td>\n",
       "      <td>venture</td>\n",
       "      <td>B</td>\n",
       "      <td>05-01-2015</td>\n",
       "      <td>10000000.0</td>\n",
       "      <td>/organization/-fame</td>\n",
       "      <td>#fame</td>\n",
       "      <td>http://livfame.com</td>\n",
       "      <td>Media</td>\n",
       "      <td>operating</td>\n",
       "      <td>IND</td>\n",
       "      <td>16</td>\n",
       "      <td>Mumbai</td>\n",
       "      <td>Mumbai</td>\n",
       "      <td>NaN</td>\n",
       "    </tr>\n",
       "    <tr>\n",
       "      <th>1</th>\n",
       "      <td>/organization/-qounter</td>\n",
       "      <td>/funding-round/22dacff496eb7acb2b901dec1dfe5633</td>\n",
       "      <td>venture</td>\n",
       "      <td>A</td>\n",
       "      <td>14-10-2014</td>\n",
       "      <td>NaN</td>\n",
       "      <td>/organization/-qounter</td>\n",
       "      <td>:Qounter</td>\n",
       "      <td>http://www.qounter.com</td>\n",
       "      <td>Application Platforms|Real Time|Social Network...</td>\n",
       "      <td>operating</td>\n",
       "      <td>USA</td>\n",
       "      <td>DE</td>\n",
       "      <td>DE - Other</td>\n",
       "      <td>Delaware City</td>\n",
       "      <td>04-09-2014</td>\n",
       "    </tr>\n",
       "    <tr>\n",
       "      <th>2</th>\n",
       "      <td>/organization/-qounter</td>\n",
       "      <td>/funding-round/b44fbb94153f6cdef13083530bb48030</td>\n",
       "      <td>seed</td>\n",
       "      <td>NaN</td>\n",
       "      <td>01-03-2014</td>\n",
       "      <td>700000.0</td>\n",
       "      <td>/organization/-qounter</td>\n",
       "      <td>:Qounter</td>\n",
       "      <td>http://www.qounter.com</td>\n",
       "      <td>Application Platforms|Real Time|Social Network...</td>\n",
       "      <td>operating</td>\n",
       "      <td>USA</td>\n",
       "      <td>DE</td>\n",
       "      <td>DE - Other</td>\n",
       "      <td>Delaware City</td>\n",
       "      <td>04-09-2014</td>\n",
       "    </tr>\n",
       "    <tr>\n",
       "      <th>3</th>\n",
       "      <td>/organization/-the-one-of-them-inc-</td>\n",
       "      <td>/funding-round/650b8f704416801069bb178a1418776b</td>\n",
       "      <td>venture</td>\n",
       "      <td>B</td>\n",
       "      <td>30-01-2014</td>\n",
       "      <td>3406878.0</td>\n",
       "      <td>/organization/-the-one-of-them-inc-</td>\n",
       "      <td>(THE) ONE of THEM,Inc.</td>\n",
       "      <td>http://oneofthem.jp</td>\n",
       "      <td>Apps|Games|Mobile</td>\n",
       "      <td>operating</td>\n",
       "      <td>NaN</td>\n",
       "      <td>NaN</td>\n",
       "      <td>NaN</td>\n",
       "      <td>NaN</td>\n",
       "      <td>NaN</td>\n",
       "    </tr>\n",
       "    <tr>\n",
       "      <th>4</th>\n",
       "      <td>/organization/0-6-com</td>\n",
       "      <td>/funding-round/5727accaeaa57461bd22a9bdd945382d</td>\n",
       "      <td>venture</td>\n",
       "      <td>A</td>\n",
       "      <td>19-03-2008</td>\n",
       "      <td>2000000.0</td>\n",
       "      <td>/organization/0-6-com</td>\n",
       "      <td>0-6.com</td>\n",
       "      <td>http://www.0-6.com</td>\n",
       "      <td>Curated Web</td>\n",
       "      <td>operating</td>\n",
       "      <td>CHN</td>\n",
       "      <td>22</td>\n",
       "      <td>Beijing</td>\n",
       "      <td>Beijing</td>\n",
       "      <td>01-01-2007</td>\n",
       "    </tr>\n",
       "  </tbody>\n",
       "</table>\n",
       "</div>"
      ],
      "text/plain": [
       "                     company_permalink  \\\n",
       "0                  /organization/-fame   \n",
       "1               /organization/-qounter   \n",
       "2               /organization/-qounter   \n",
       "3  /organization/-the-one-of-them-inc-   \n",
       "4                /organization/0-6-com   \n",
       "\n",
       "                           funding_round_permalink funding_round_type  \\\n",
       "0  /funding-round/9a01d05418af9f794eebff7ace91f638            venture   \n",
       "1  /funding-round/22dacff496eb7acb2b901dec1dfe5633            venture   \n",
       "2  /funding-round/b44fbb94153f6cdef13083530bb48030               seed   \n",
       "3  /funding-round/650b8f704416801069bb178a1418776b            venture   \n",
       "4  /funding-round/5727accaeaa57461bd22a9bdd945382d            venture   \n",
       "\n",
       "  funding_round_code   funded_at  raised_amount_usd  \\\n",
       "0                  B  05-01-2015         10000000.0   \n",
       "1                  A  14-10-2014                NaN   \n",
       "2                NaN  01-03-2014           700000.0   \n",
       "3                  B  30-01-2014          3406878.0   \n",
       "4                  A  19-03-2008          2000000.0   \n",
       "\n",
       "                             permalink                    name  \\\n",
       "0                  /organization/-fame                   #fame   \n",
       "1               /organization/-qounter                :Qounter   \n",
       "2               /organization/-qounter                :Qounter   \n",
       "3  /organization/-the-one-of-them-inc-  (THE) ONE of THEM,Inc.   \n",
       "4                /organization/0-6-com                 0-6.com   \n",
       "\n",
       "             homepage_url                                      category_list  \\\n",
       "0      http://livfame.com                                              Media   \n",
       "1  http://www.qounter.com  Application Platforms|Real Time|Social Network...   \n",
       "2  http://www.qounter.com  Application Platforms|Real Time|Social Network...   \n",
       "3     http://oneofthem.jp                                  Apps|Games|Mobile   \n",
       "4      http://www.0-6.com                                        Curated Web   \n",
       "\n",
       "      status country_code state_code      region           city  founded_at  \n",
       "0  operating          IND         16      Mumbai         Mumbai         NaN  \n",
       "1  operating          USA         DE  DE - Other  Delaware City  04-09-2014  \n",
       "2  operating          USA         DE  DE - Other  Delaware City  04-09-2014  \n",
       "3  operating          NaN        NaN         NaN            NaN         NaN  \n",
       "4  operating          CHN         22     Beijing        Beijing  01-01-2007  "
      ]
     },
     "execution_count": 11,
     "metadata": {},
     "output_type": "execute_result"
    }
   ],
   "source": [
    "master_frame = pd.merge(rounds2, companies , how='inner', left_on='company_permalink', right_on='permalink')\n",
    "master_frame.head()"
   ]
  },
  {
   "cell_type": "code",
   "execution_count": 12,
   "id": "12fefb12",
   "metadata": {},
   "outputs": [
    {
     "name": "stdout",
     "output_type": "stream",
     "text": [
      "There are 114942 observations present in master_frame.\n"
     ]
    }
   ],
   "source": [
    "print(\"There are\", len(master_frame), \"observations present in master_frame.\")"
   ]
  },
  {
   "cell_type": "code",
   "execution_count": 13,
   "id": "6450cdc6",
   "metadata": {},
   "outputs": [
    {
     "data": {
      "text/plain": [
       "Index(['company_permalink', 'funding_round_permalink', 'funding_round_type',\n",
       "       'funding_round_code', 'funded_at', 'raised_amount_usd', 'permalink',\n",
       "       'name', 'homepage_url', 'category_list', 'status', 'country_code',\n",
       "       'state_code', 'region', 'city', 'founded_at'],\n",
       "      dtype='object')"
      ]
     },
     "execution_count": 13,
     "metadata": {},
     "output_type": "execute_result"
    }
   ],
   "source": [
    "master_frame.columns"
   ]
  },
  {
   "cell_type": "code",
   "execution_count": 14,
   "id": "7ea5f098",
   "metadata": {},
   "outputs": [],
   "source": [
    "# making a copy of master_frame to work on it\n",
    "master_frame1 = master_frame.copy()\n"
   ]
  },
  {
   "cell_type": "code",
   "execution_count": 15,
   "id": "d8706465",
   "metadata": {},
   "outputs": [],
   "source": [
    "# removing unwanted columns from master_frame\n",
    "\n",
    "master_frame1 =  master_frame1.drop(['funding_round_code', 'funding_round_permalink', 'funded_at','permalink', 'homepage_url',\n",
    "                                 'state_code', 'region', 'city', 'founded_at','status'], axis = 1)\n",
    "\n"
   ]
  },
  {
   "cell_type": "code",
   "execution_count": 16,
   "id": "1d0b267f",
   "metadata": {},
   "outputs": [
    {
     "data": {
      "text/html": [
       "<div>\n",
       "<style scoped>\n",
       "    .dataframe tbody tr th:only-of-type {\n",
       "        vertical-align: middle;\n",
       "    }\n",
       "\n",
       "    .dataframe tbody tr th {\n",
       "        vertical-align: top;\n",
       "    }\n",
       "\n",
       "    .dataframe thead th {\n",
       "        text-align: right;\n",
       "    }\n",
       "</style>\n",
       "<table border=\"1\" class=\"dataframe\">\n",
       "  <thead>\n",
       "    <tr style=\"text-align: right;\">\n",
       "      <th></th>\n",
       "      <th>company_permalink</th>\n",
       "      <th>funding_round_type</th>\n",
       "      <th>raised_amount_usd</th>\n",
       "      <th>name</th>\n",
       "      <th>category_list</th>\n",
       "      <th>country_code</th>\n",
       "    </tr>\n",
       "  </thead>\n",
       "  <tbody>\n",
       "    <tr>\n",
       "      <th>0</th>\n",
       "      <td>/organization/-fame</td>\n",
       "      <td>venture</td>\n",
       "      <td>10000000.0</td>\n",
       "      <td>#fame</td>\n",
       "      <td>Media</td>\n",
       "      <td>IND</td>\n",
       "    </tr>\n",
       "    <tr>\n",
       "      <th>1</th>\n",
       "      <td>/organization/-qounter</td>\n",
       "      <td>venture</td>\n",
       "      <td>NaN</td>\n",
       "      <td>:Qounter</td>\n",
       "      <td>Application Platforms|Real Time|Social Network...</td>\n",
       "      <td>USA</td>\n",
       "    </tr>\n",
       "    <tr>\n",
       "      <th>2</th>\n",
       "      <td>/organization/-qounter</td>\n",
       "      <td>seed</td>\n",
       "      <td>700000.0</td>\n",
       "      <td>:Qounter</td>\n",
       "      <td>Application Platforms|Real Time|Social Network...</td>\n",
       "      <td>USA</td>\n",
       "    </tr>\n",
       "    <tr>\n",
       "      <th>3</th>\n",
       "      <td>/organization/-the-one-of-them-inc-</td>\n",
       "      <td>venture</td>\n",
       "      <td>3406878.0</td>\n",
       "      <td>(THE) ONE of THEM,Inc.</td>\n",
       "      <td>Apps|Games|Mobile</td>\n",
       "      <td>NaN</td>\n",
       "    </tr>\n",
       "    <tr>\n",
       "      <th>4</th>\n",
       "      <td>/organization/0-6-com</td>\n",
       "      <td>venture</td>\n",
       "      <td>2000000.0</td>\n",
       "      <td>0-6.com</td>\n",
       "      <td>Curated Web</td>\n",
       "      <td>CHN</td>\n",
       "    </tr>\n",
       "    <tr>\n",
       "      <th>...</th>\n",
       "      <td>...</td>\n",
       "      <td>...</td>\n",
       "      <td>...</td>\n",
       "      <td>...</td>\n",
       "      <td>...</td>\n",
       "      <td>...</td>\n",
       "    </tr>\n",
       "    <tr>\n",
       "      <th>114937</th>\n",
       "      <td>/organization/zzzzapp-com</td>\n",
       "      <td>convertible_note</td>\n",
       "      <td>41313.0</td>\n",
       "      <td>Zzzzapp Wireless ltd.</td>\n",
       "      <td>Advertising|Mobile|Web Development|Wireless</td>\n",
       "      <td>HRV</td>\n",
       "    </tr>\n",
       "    <tr>\n",
       "      <th>114938</th>\n",
       "      <td>/organization/zzzzapp-com</td>\n",
       "      <td>seed</td>\n",
       "      <td>32842.0</td>\n",
       "      <td>Zzzzapp Wireless ltd.</td>\n",
       "      <td>Advertising|Mobile|Web Development|Wireless</td>\n",
       "      <td>HRV</td>\n",
       "    </tr>\n",
       "    <tr>\n",
       "      <th>114939</th>\n",
       "      <td>/organization/ãeron</td>\n",
       "      <td>venture</td>\n",
       "      <td>NaN</td>\n",
       "      <td>ÃERON</td>\n",
       "      <td>NaN</td>\n",
       "      <td>NaN</td>\n",
       "    </tr>\n",
       "    <tr>\n",
       "      <th>114940</th>\n",
       "      <td>/organization/ãasys-2</td>\n",
       "      <td>seed</td>\n",
       "      <td>18192.0</td>\n",
       "      <td>Ãasys</td>\n",
       "      <td>Consumer Electronics|Internet of Things|Teleco...</td>\n",
       "      <td>USA</td>\n",
       "    </tr>\n",
       "    <tr>\n",
       "      <th>114941</th>\n",
       "      <td>/organization/ä°novatiff-reklam-ve-tanä±tä±m-h...</td>\n",
       "      <td>grant</td>\n",
       "      <td>14851.0</td>\n",
       "      <td>Ä°novatiff Reklam ve TanÄ±tÄ±m Hizmetleri Tic</td>\n",
       "      <td>Consumer Goods|E-Commerce|Internet</td>\n",
       "      <td>NaN</td>\n",
       "    </tr>\n",
       "  </tbody>\n",
       "</table>\n",
       "<p>114942 rows × 6 columns</p>\n",
       "</div>"
      ],
      "text/plain": [
       "                                        company_permalink funding_round_type  \\\n",
       "0                                     /organization/-fame            venture   \n",
       "1                                  /organization/-qounter            venture   \n",
       "2                                  /organization/-qounter               seed   \n",
       "3                     /organization/-the-one-of-them-inc-            venture   \n",
       "4                                   /organization/0-6-com            venture   \n",
       "...                                                   ...                ...   \n",
       "114937                          /organization/zzzzapp-com   convertible_note   \n",
       "114938                          /organization/zzzzapp-com               seed   \n",
       "114939                               /organization/ãeron            venture   \n",
       "114940                             /organization/ãasys-2               seed   \n",
       "114941  /organization/ä°novatiff-reklam-ve-tanä±tä±m-h...              grant   \n",
       "\n",
       "        raised_amount_usd                                           name  \\\n",
       "0              10000000.0                                          #fame   \n",
       "1                     NaN                                       :Qounter   \n",
       "2                700000.0                                       :Qounter   \n",
       "3               3406878.0                         (THE) ONE of THEM,Inc.   \n",
       "4               2000000.0                                        0-6.com   \n",
       "...                   ...                                            ...   \n",
       "114937            41313.0                          Zzzzapp Wireless ltd.   \n",
       "114938            32842.0                          Zzzzapp Wireless ltd.   \n",
       "114939                NaN                                         ÃERON   \n",
       "114940            18192.0                                         Ãasys   \n",
       "114941            14851.0  Ä°novatiff Reklam ve TanÄ±tÄ±m Hizmetleri Tic   \n",
       "\n",
       "                                            category_list country_code  \n",
       "0                                                   Media          IND  \n",
       "1       Application Platforms|Real Time|Social Network...          USA  \n",
       "2       Application Platforms|Real Time|Social Network...          USA  \n",
       "3                                       Apps|Games|Mobile          NaN  \n",
       "4                                             Curated Web          CHN  \n",
       "...                                                   ...          ...  \n",
       "114937        Advertising|Mobile|Web Development|Wireless          HRV  \n",
       "114938        Advertising|Mobile|Web Development|Wireless          HRV  \n",
       "114939                                                NaN          NaN  \n",
       "114940  Consumer Electronics|Internet of Things|Teleco...          USA  \n",
       "114941                 Consumer Goods|E-Commerce|Internet          NaN  \n",
       "\n",
       "[114942 rows x 6 columns]"
      ]
     },
     "execution_count": 16,
     "metadata": {},
     "output_type": "execute_result"
    }
   ],
   "source": [
    "master_frame1"
   ]
  },
  {
   "cell_type": "code",
   "execution_count": 17,
   "id": "ddbc3fbc",
   "metadata": {},
   "outputs": [
    {
     "data": {
      "text/plain": [
       "company_permalink         0\n",
       "funding_round_type        0\n",
       "raised_amount_usd     19984\n",
       "name                      1\n",
       "category_list          3407\n",
       "country_code           8671\n",
       "dtype: int64"
      ]
     },
     "execution_count": 17,
     "metadata": {},
     "output_type": "execute_result"
    }
   ],
   "source": [
    "## checking for null values\n",
    "\n",
    "master_frame1.isnull().sum()\n"
   ]
  },
  {
   "cell_type": "markdown",
   "id": "c6416903",
   "metadata": {},
   "source": [
    "- There are null values present in some columns so dropping the null values as imputating it can disturb the data which is not good for analysis and after deleting null rows there is still enough data to analyse."
   ]
  },
  {
   "cell_type": "code",
   "execution_count": 18,
   "id": "10cf939e",
   "metadata": {},
   "outputs": [],
   "source": [
    "master_frame1 = master_frame1.dropna()"
   ]
  },
  {
   "cell_type": "code",
   "execution_count": 19,
   "id": "59a862ab",
   "metadata": {},
   "outputs": [
    {
     "data": {
      "text/plain": [
       "company_permalink     0\n",
       "funding_round_type    0\n",
       "raised_amount_usd     0\n",
       "name                  0\n",
       "category_list         0\n",
       "country_code          0\n",
       "dtype: int64"
      ]
     },
     "execution_count": 19,
     "metadata": {},
     "output_type": "execute_result"
    }
   ],
   "source": [
    "master_frame1.isnull().sum()"
   ]
  },
  {
   "cell_type": "markdown",
   "id": "614ada8c",
   "metadata": {},
   "source": [
    "- Now there are no null values in the dataset"
   ]
  },
  {
   "cell_type": "markdown",
   "id": "9aa90889",
   "metadata": {},
   "source": [
    "### Checkpoint 2: Funding Type Analysis\n"
   ]
  },
  {
   "cell_type": "markdown",
   "id": "a92524e4",
   "metadata": {},
   "source": [
    "- This is the first of the three goals of data analysis – investment type analysis. The funding types such as seed, venture, angel, etc. depend on the type of the company (startup, corporate, etc.), its stage (early stage startup, funded startup, etc.), the amount of funding (a few million USD to a billion USD), and so on. For example, seed, angel and venture are three common stages of startup funding."
   ]
  },
  {
   "cell_type": "markdown",
   "id": "310420b7",
   "metadata": {},
   "source": [
    "-    Considering the constraints of Spark Funds, you have to decide one funding type which is most suitable for them. \n",
    "1. Calculate the most representative value of the investment amount for each of the four funding types (venture, angel, seed, and private equity)\n",
    "2. Based on the most representative investment amount calculated above, which investment type do you think is the most suitable for Spark Funds?\n",
    "-   Considering that Spark Funds wants to invest between 5 to 15 million USD per investment round, which investment type is the most suitable for it? Identify the investment type and, for further analysis, filter the data so it only contains the chosen investment type.\n",
    "\n",
    " "
   ]
  },
  {
   "cell_type": "markdown",
   "id": "a579b284",
   "metadata": {},
   "source": [
    "#### Here the company only want to invest in four funding types i.e venture, angel, seed and private equity"
   ]
  },
  {
   "cell_type": "code",
   "execution_count": 20,
   "id": "25530a90",
   "metadata": {},
   "outputs": [],
   "source": [
    "## filtering the the data according to this four funding types\n",
    "\n",
    "master_frame2 =master_frame1[master_frame1['funding_round_type'].isin(['seed','angel','venture','private_equity'])]"
   ]
  },
  {
   "cell_type": "code",
   "execution_count": 21,
   "id": "e3ff9d5d",
   "metadata": {},
   "outputs": [
    {
     "data": {
      "text/plain": [
       "array(['venture', 'seed', 'private_equity', 'angel'], dtype=object)"
      ]
     },
     "execution_count": 21,
     "metadata": {},
     "output_type": "execute_result"
    }
   ],
   "source": [
    "master_frame2.funding_round_type.unique()"
   ]
  },
  {
   "cell_type": "code",
   "execution_count": 22,
   "id": "0857b1e2",
   "metadata": {},
   "outputs": [],
   "source": [
    "## getting the values in million\n",
    "master_frame2['raised_amount_usd'] = master_frame2['raised_amount_usd']/1000000"
   ]
  },
  {
   "cell_type": "code",
   "execution_count": 23,
   "id": "565f4dd9",
   "metadata": {},
   "outputs": [
    {
     "data": {
      "text/plain": [
       "funding_round_type\n",
       "private_equity    73.938486\n",
       "venture           11.724223\n",
       "angel              0.971574\n",
       "seed               0.747828\n",
       "Name: raised_amount_usd, dtype: float64"
      ]
     },
     "execution_count": 23,
     "metadata": {},
     "output_type": "execute_result"
    }
   ],
   "source": [
    "master_frame2.groupby('funding_round_type')['raised_amount_usd'].mean().sort_values(ascending=False)"
   ]
  },
  {
   "cell_type": "markdown",
   "id": "e9644590",
   "metadata": {},
   "source": [
    "- From the data it is seen that <b>Venture</b> funding round type is the best suitable as the company want to invest between $5-15 Millions."
   ]
  },
  {
   "cell_type": "code",
   "execution_count": 24,
   "id": "e37480d6",
   "metadata": {},
   "outputs": [],
   "source": [
    "## filterting the data with funding round type as Venture\n",
    "master_frame2 = master_frame2[master_frame2['funding_round_type'] == 'venture'] \n"
   ]
  },
  {
   "cell_type": "markdown",
   "id": "682052da",
   "metadata": {},
   "source": [
    "### Checkpoint 3: Country Analysis"
   ]
  },
  {
   "cell_type": "markdown",
   "id": "325f2f04",
   "metadata": {},
   "source": [
    "- Spark Funds wants to invest in countries with the highest amount of funding for the chosen investment type. This is a part of its broader strategy to invest where most investments are occurring.\n",
    "1. Spark Funds wants to see the top nine countries which have received the highest total funding (across ALL sectors for the chosen investment type) \n",
    "2. For the chosen investment type, make a data frame named top9 with the top nine countries (based on the total investment amount each country has received)"
   ]
  },
  {
   "cell_type": "code",
   "execution_count": 25,
   "id": "4385971f",
   "metadata": {},
   "outputs": [
    {
     "data": {
      "text/plain": [
       "country_code\n",
       "USA    420068.03\n",
       "CHN     39338.92\n",
       "GBR     20072.81\n",
       "IND     14261.51\n",
       "CAN      9482.22\n",
       "FRA      7226.85\n",
       "ISR      6854.35\n",
       "DEU      6306.92\n",
       "JPN      3167.65\n",
       "Name: raised_amount_usd, dtype: float64"
      ]
     },
     "execution_count": 25,
     "metadata": {},
     "output_type": "execute_result"
    }
   ],
   "source": [
    "country = master_frame2.groupby('country_code')\n",
    "round(country['raised_amount_usd'].sum().sort_values(ascending=False).head(9),2)"
   ]
  },
  {
   "cell_type": "markdown",
   "id": "24278d57",
   "metadata": {},
   "source": [
    "- These are the top 9 countries which have received the highest total funding. "
   ]
  },
  {
   "cell_type": "code",
   "execution_count": 26,
   "id": "11f792e6",
   "metadata": {},
   "outputs": [],
   "source": [
    "top9 = master_frame2[master_frame2['country_code'].isin([\"USA\",\"CHN\",\"GBR\",\"IND\",\"CAN\",\"FRA\",\"ISR\",\"DEU\",\"JPN\"])]"
   ]
  },
  {
   "cell_type": "code",
   "execution_count": 27,
   "id": "734781d7",
   "metadata": {},
   "outputs": [
    {
     "data": {
      "text/html": [
       "<div>\n",
       "<style scoped>\n",
       "    .dataframe tbody tr th:only-of-type {\n",
       "        vertical-align: middle;\n",
       "    }\n",
       "\n",
       "    .dataframe tbody tr th {\n",
       "        vertical-align: top;\n",
       "    }\n",
       "\n",
       "    .dataframe thead th {\n",
       "        text-align: right;\n",
       "    }\n",
       "</style>\n",
       "<table border=\"1\" class=\"dataframe\">\n",
       "  <thead>\n",
       "    <tr style=\"text-align: right;\">\n",
       "      <th></th>\n",
       "      <th>company_permalink</th>\n",
       "      <th>funding_round_type</th>\n",
       "      <th>raised_amount_usd</th>\n",
       "      <th>name</th>\n",
       "      <th>category_list</th>\n",
       "      <th>country_code</th>\n",
       "    </tr>\n",
       "  </thead>\n",
       "  <tbody>\n",
       "    <tr>\n",
       "      <th>0</th>\n",
       "      <td>/organization/-fame</td>\n",
       "      <td>venture</td>\n",
       "      <td>10.000000</td>\n",
       "      <td>#fame</td>\n",
       "      <td>Media</td>\n",
       "      <td>IND</td>\n",
       "    </tr>\n",
       "    <tr>\n",
       "      <th>4</th>\n",
       "      <td>/organization/0-6-com</td>\n",
       "      <td>venture</td>\n",
       "      <td>2.000000</td>\n",
       "      <td>0-6.com</td>\n",
       "      <td>Curated Web</td>\n",
       "      <td>CHN</td>\n",
       "    </tr>\n",
       "    <tr>\n",
       "      <th>8</th>\n",
       "      <td>/organization/0ndine-biomedical-inc</td>\n",
       "      <td>venture</td>\n",
       "      <td>0.719491</td>\n",
       "      <td>Ondine Biomedical Inc.</td>\n",
       "      <td>Biotechnology</td>\n",
       "      <td>CAN</td>\n",
       "    </tr>\n",
       "    <tr>\n",
       "      <th>10</th>\n",
       "      <td>/organization/0xdata</td>\n",
       "      <td>venture</td>\n",
       "      <td>20.000000</td>\n",
       "      <td>H2O.ai</td>\n",
       "      <td>Analytics</td>\n",
       "      <td>USA</td>\n",
       "    </tr>\n",
       "    <tr>\n",
       "      <th>11</th>\n",
       "      <td>/organization/0xdata</td>\n",
       "      <td>venture</td>\n",
       "      <td>1.700000</td>\n",
       "      <td>H2O.ai</td>\n",
       "      <td>Analytics</td>\n",
       "      <td>USA</td>\n",
       "    </tr>\n",
       "    <tr>\n",
       "      <th>...</th>\n",
       "      <td>...</td>\n",
       "      <td>...</td>\n",
       "      <td>...</td>\n",
       "      <td>...</td>\n",
       "      <td>...</td>\n",
       "      <td>...</td>\n",
       "    </tr>\n",
       "    <tr>\n",
       "      <th>114915</th>\n",
       "      <td>/organization/zyomyx-inc</td>\n",
       "      <td>venture</td>\n",
       "      <td>14.219999</td>\n",
       "      <td>ZYOMYX</td>\n",
       "      <td>Biotechnology</td>\n",
       "      <td>USA</td>\n",
       "    </tr>\n",
       "    <tr>\n",
       "      <th>114916</th>\n",
       "      <td>/organization/zyomyx-inc</td>\n",
       "      <td>venture</td>\n",
       "      <td>0.555016</td>\n",
       "      <td>ZYOMYX</td>\n",
       "      <td>Biotechnology</td>\n",
       "      <td>USA</td>\n",
       "    </tr>\n",
       "    <tr>\n",
       "      <th>114927</th>\n",
       "      <td>/organization/zyrra</td>\n",
       "      <td>venture</td>\n",
       "      <td>0.140500</td>\n",
       "      <td>Zyrra</td>\n",
       "      <td>E-Commerce</td>\n",
       "      <td>USA</td>\n",
       "    </tr>\n",
       "    <tr>\n",
       "      <th>114929</th>\n",
       "      <td>/organization/zystor</td>\n",
       "      <td>venture</td>\n",
       "      <td>8.500000</td>\n",
       "      <td>Zystor</td>\n",
       "      <td>Biotechnology</td>\n",
       "      <td>USA</td>\n",
       "    </tr>\n",
       "    <tr>\n",
       "      <th>114934</th>\n",
       "      <td>/organization/zznode-science-and-technology-co...</td>\n",
       "      <td>venture</td>\n",
       "      <td>1.587301</td>\n",
       "      <td>ZZNode Science and Technology</td>\n",
       "      <td>Enterprise Software</td>\n",
       "      <td>CHN</td>\n",
       "    </tr>\n",
       "  </tbody>\n",
       "</table>\n",
       "<p>44118 rows × 6 columns</p>\n",
       "</div>"
      ],
      "text/plain": [
       "                                        company_permalink funding_round_type  \\\n",
       "0                                     /organization/-fame            venture   \n",
       "4                                   /organization/0-6-com            venture   \n",
       "8                     /organization/0ndine-biomedical-inc            venture   \n",
       "10                                   /organization/0xdata            venture   \n",
       "11                                   /organization/0xdata            venture   \n",
       "...                                                   ...                ...   \n",
       "114915                           /organization/zyomyx-inc            venture   \n",
       "114916                           /organization/zyomyx-inc            venture   \n",
       "114927                                /organization/zyrra            venture   \n",
       "114929                               /organization/zystor            venture   \n",
       "114934  /organization/zznode-science-and-technology-co...            venture   \n",
       "\n",
       "        raised_amount_usd                           name        category_list  \\\n",
       "0               10.000000                          #fame                Media   \n",
       "4                2.000000                        0-6.com          Curated Web   \n",
       "8                0.719491         Ondine Biomedical Inc.        Biotechnology   \n",
       "10              20.000000                         H2O.ai            Analytics   \n",
       "11               1.700000                         H2O.ai            Analytics   \n",
       "...                   ...                            ...                  ...   \n",
       "114915          14.219999                         ZYOMYX        Biotechnology   \n",
       "114916           0.555016                         ZYOMYX        Biotechnology   \n",
       "114927           0.140500                          Zyrra           E-Commerce   \n",
       "114929           8.500000                         Zystor        Biotechnology   \n",
       "114934           1.587301  ZZNode Science and Technology  Enterprise Software   \n",
       "\n",
       "       country_code  \n",
       "0               IND  \n",
       "4               CHN  \n",
       "8               CAN  \n",
       "10              USA  \n",
       "11              USA  \n",
       "...             ...  \n",
       "114915          USA  \n",
       "114916          USA  \n",
       "114927          USA  \n",
       "114929          USA  \n",
       "114934          CHN  \n",
       "\n",
       "[44118 rows x 6 columns]"
      ]
     },
     "execution_count": 27,
     "metadata": {},
     "output_type": "execute_result"
    }
   ],
   "source": [
    "top9"
   ]
  },
  {
   "cell_type": "markdown",
   "id": "a1717b75",
   "metadata": {},
   "source": [
    "- The top 3 english speaking countries can be found manually and in this list it is\n",
    "1. USA\n",
    "2. GBR\n",
    "3. IND"
   ]
  },
  {
   "cell_type": "markdown",
   "id": "12ef5319",
   "metadata": {},
   "source": [
    "### Checkpoint 4: Sector Analysis 1"
   ]
  },
  {
   "cell_type": "markdown",
   "id": "80b1022f",
   "metadata": {},
   "source": [
    "- When we say sector analysis, we refer to one of the eight main sectors (named main_sector) listed in the mapping file (note that ‘Other’ is one of the eight main sectors). This is to simplify the analysis by grouping the numerous category lists (named ‘category_list’) in the mapping file. For example, in the mapping file, category_lists such as ‘3D’, ‘3D Printing’, ‘3D Technology’, etc. are mapped to the main sector ‘Manufacturing’.\n"
   ]
  },
  {
   "cell_type": "markdown",
   "id": "9301229e",
   "metadata": {},
   "source": [
    "- You discuss with the CEO and come up with the business rule that the first string before the vertical bar will be considered the primary sector. In the example above, ‘Application Platforms’ will be considered the primary sector.\n",
    "1. Extract the primary sector of each category list from the category_list column. \n",
    "2. Use the mapping file 'mapping.csv' to map each primary sector to one of the eight main sectors (Note that ‘Others’ is also considered one of the main sectors)"
   ]
  },
  {
   "cell_type": "code",
   "execution_count": 28,
   "id": "0db29390",
   "metadata": {},
   "outputs": [
    {
     "data": {
      "text/html": [
       "<div>\n",
       "<style scoped>\n",
       "    .dataframe tbody tr th:only-of-type {\n",
       "        vertical-align: middle;\n",
       "    }\n",
       "\n",
       "    .dataframe tbody tr th {\n",
       "        vertical-align: top;\n",
       "    }\n",
       "\n",
       "    .dataframe thead th {\n",
       "        text-align: right;\n",
       "    }\n",
       "</style>\n",
       "<table border=\"1\" class=\"dataframe\">\n",
       "  <thead>\n",
       "    <tr style=\"text-align: right;\">\n",
       "      <th></th>\n",
       "      <th>company_permalink</th>\n",
       "      <th>funding_round_type</th>\n",
       "      <th>raised_amount_usd</th>\n",
       "      <th>name</th>\n",
       "      <th>category_list</th>\n",
       "      <th>country_code</th>\n",
       "    </tr>\n",
       "  </thead>\n",
       "  <tbody>\n",
       "    <tr>\n",
       "      <th>0</th>\n",
       "      <td>/organization/-fame</td>\n",
       "      <td>venture</td>\n",
       "      <td>10.000000</td>\n",
       "      <td>#fame</td>\n",
       "      <td>Media</td>\n",
       "      <td>IND</td>\n",
       "    </tr>\n",
       "    <tr>\n",
       "      <th>4</th>\n",
       "      <td>/organization/0-6-com</td>\n",
       "      <td>venture</td>\n",
       "      <td>2.000000</td>\n",
       "      <td>0-6.com</td>\n",
       "      <td>Curated Web</td>\n",
       "      <td>CHN</td>\n",
       "    </tr>\n",
       "    <tr>\n",
       "      <th>8</th>\n",
       "      <td>/organization/0ndine-biomedical-inc</td>\n",
       "      <td>venture</td>\n",
       "      <td>0.719491</td>\n",
       "      <td>Ondine Biomedical Inc.</td>\n",
       "      <td>Biotechnology</td>\n",
       "      <td>CAN</td>\n",
       "    </tr>\n",
       "    <tr>\n",
       "      <th>10</th>\n",
       "      <td>/organization/0xdata</td>\n",
       "      <td>venture</td>\n",
       "      <td>20.000000</td>\n",
       "      <td>H2O.ai</td>\n",
       "      <td>Analytics</td>\n",
       "      <td>USA</td>\n",
       "    </tr>\n",
       "    <tr>\n",
       "      <th>11</th>\n",
       "      <td>/organization/0xdata</td>\n",
       "      <td>venture</td>\n",
       "      <td>1.700000</td>\n",
       "      <td>H2O.ai</td>\n",
       "      <td>Analytics</td>\n",
       "      <td>USA</td>\n",
       "    </tr>\n",
       "  </tbody>\n",
       "</table>\n",
       "</div>"
      ],
      "text/plain": [
       "                      company_permalink funding_round_type  raised_amount_usd  \\\n",
       "0                   /organization/-fame            venture          10.000000   \n",
       "4                 /organization/0-6-com            venture           2.000000   \n",
       "8   /organization/0ndine-biomedical-inc            venture           0.719491   \n",
       "10                 /organization/0xdata            venture          20.000000   \n",
       "11                 /organization/0xdata            venture           1.700000   \n",
       "\n",
       "                      name  category_list country_code  \n",
       "0                    #fame          Media          IND  \n",
       "4                  0-6.com    Curated Web          CHN  \n",
       "8   Ondine Biomedical Inc.  Biotechnology          CAN  \n",
       "10                  H2O.ai      Analytics          USA  \n",
       "11                  H2O.ai      Analytics          USA  "
      ]
     },
     "execution_count": 28,
     "metadata": {},
     "output_type": "execute_result"
    }
   ],
   "source": [
    "master_frame2['category_list']=master_frame2['category_list'].apply(lambda x:x.split('|')[0])\n",
    "master_frame2.head()"
   ]
  },
  {
   "cell_type": "code",
   "execution_count": 29,
   "id": "992edcaf",
   "metadata": {},
   "outputs": [],
   "source": [
    "## Importing the mapping file\n",
    "\n",
    "mapping = pd.read_csv(\"D:/NIIT Tasks/Extra/Spark Funds Industrail Assigment/Spark Funds Industrial Assignment - 1/mapping.csv\")"
   ]
  },
  {
   "cell_type": "code",
   "execution_count": 30,
   "id": "99efa788",
   "metadata": {},
   "outputs": [
    {
     "data": {
      "text/html": [
       "<div>\n",
       "<style scoped>\n",
       "    .dataframe tbody tr th:only-of-type {\n",
       "        vertical-align: middle;\n",
       "    }\n",
       "\n",
       "    .dataframe tbody tr th {\n",
       "        vertical-align: top;\n",
       "    }\n",
       "\n",
       "    .dataframe thead th {\n",
       "        text-align: right;\n",
       "    }\n",
       "</style>\n",
       "<table border=\"1\" class=\"dataframe\">\n",
       "  <thead>\n",
       "    <tr style=\"text-align: right;\">\n",
       "      <th></th>\n",
       "      <th>category_list</th>\n",
       "      <th>Automotive &amp; Sports</th>\n",
       "      <th>Blanks</th>\n",
       "      <th>Cleantech / Semiconductors</th>\n",
       "      <th>Entertainment</th>\n",
       "      <th>Health</th>\n",
       "      <th>Manufacturing</th>\n",
       "      <th>News, Search and Messaging</th>\n",
       "      <th>Others</th>\n",
       "      <th>Social, Finance, Analytics, Advertising</th>\n",
       "    </tr>\n",
       "  </thead>\n",
       "  <tbody>\n",
       "    <tr>\n",
       "      <th>0</th>\n",
       "      <td>NaN</td>\n",
       "      <td>0</td>\n",
       "      <td>1</td>\n",
       "      <td>0</td>\n",
       "      <td>0</td>\n",
       "      <td>0</td>\n",
       "      <td>0</td>\n",
       "      <td>0</td>\n",
       "      <td>0</td>\n",
       "      <td>0</td>\n",
       "    </tr>\n",
       "    <tr>\n",
       "      <th>1</th>\n",
       "      <td>3D</td>\n",
       "      <td>0</td>\n",
       "      <td>0</td>\n",
       "      <td>0</td>\n",
       "      <td>0</td>\n",
       "      <td>0</td>\n",
       "      <td>1</td>\n",
       "      <td>0</td>\n",
       "      <td>0</td>\n",
       "      <td>0</td>\n",
       "    </tr>\n",
       "    <tr>\n",
       "      <th>2</th>\n",
       "      <td>3D Printing</td>\n",
       "      <td>0</td>\n",
       "      <td>0</td>\n",
       "      <td>0</td>\n",
       "      <td>0</td>\n",
       "      <td>0</td>\n",
       "      <td>1</td>\n",
       "      <td>0</td>\n",
       "      <td>0</td>\n",
       "      <td>0</td>\n",
       "    </tr>\n",
       "    <tr>\n",
       "      <th>3</th>\n",
       "      <td>3D Technology</td>\n",
       "      <td>0</td>\n",
       "      <td>0</td>\n",
       "      <td>0</td>\n",
       "      <td>0</td>\n",
       "      <td>0</td>\n",
       "      <td>1</td>\n",
       "      <td>0</td>\n",
       "      <td>0</td>\n",
       "      <td>0</td>\n",
       "    </tr>\n",
       "    <tr>\n",
       "      <th>4</th>\n",
       "      <td>Accounting</td>\n",
       "      <td>0</td>\n",
       "      <td>0</td>\n",
       "      <td>0</td>\n",
       "      <td>0</td>\n",
       "      <td>0</td>\n",
       "      <td>0</td>\n",
       "      <td>0</td>\n",
       "      <td>0</td>\n",
       "      <td>1</td>\n",
       "    </tr>\n",
       "    <tr>\n",
       "      <th>...</th>\n",
       "      <td>...</td>\n",
       "      <td>...</td>\n",
       "      <td>...</td>\n",
       "      <td>...</td>\n",
       "      <td>...</td>\n",
       "      <td>...</td>\n",
       "      <td>...</td>\n",
       "      <td>...</td>\n",
       "      <td>...</td>\n",
       "      <td>...</td>\n",
       "    </tr>\n",
       "    <tr>\n",
       "      <th>683</th>\n",
       "      <td>Wholesale</td>\n",
       "      <td>0</td>\n",
       "      <td>0</td>\n",
       "      <td>0</td>\n",
       "      <td>0</td>\n",
       "      <td>0</td>\n",
       "      <td>0</td>\n",
       "      <td>0</td>\n",
       "      <td>1</td>\n",
       "      <td>0</td>\n",
       "    </tr>\n",
       "    <tr>\n",
       "      <th>684</th>\n",
       "      <td>Wine And Spirits</td>\n",
       "      <td>0</td>\n",
       "      <td>0</td>\n",
       "      <td>0</td>\n",
       "      <td>1</td>\n",
       "      <td>0</td>\n",
       "      <td>0</td>\n",
       "      <td>0</td>\n",
       "      <td>0</td>\n",
       "      <td>0</td>\n",
       "    </tr>\n",
       "    <tr>\n",
       "      <th>685</th>\n",
       "      <td>Wireless</td>\n",
       "      <td>0</td>\n",
       "      <td>0</td>\n",
       "      <td>0</td>\n",
       "      <td>1</td>\n",
       "      <td>0</td>\n",
       "      <td>0</td>\n",
       "      <td>0</td>\n",
       "      <td>0</td>\n",
       "      <td>0</td>\n",
       "    </tr>\n",
       "    <tr>\n",
       "      <th>686</th>\n",
       "      <td>Women</td>\n",
       "      <td>0</td>\n",
       "      <td>0</td>\n",
       "      <td>0</td>\n",
       "      <td>0</td>\n",
       "      <td>0</td>\n",
       "      <td>0</td>\n",
       "      <td>0</td>\n",
       "      <td>1</td>\n",
       "      <td>0</td>\n",
       "    </tr>\n",
       "    <tr>\n",
       "      <th>687</th>\n",
       "      <td>Young Adults</td>\n",
       "      <td>0</td>\n",
       "      <td>0</td>\n",
       "      <td>0</td>\n",
       "      <td>0</td>\n",
       "      <td>0</td>\n",
       "      <td>0</td>\n",
       "      <td>0</td>\n",
       "      <td>1</td>\n",
       "      <td>0</td>\n",
       "    </tr>\n",
       "  </tbody>\n",
       "</table>\n",
       "<p>688 rows × 10 columns</p>\n",
       "</div>"
      ],
      "text/plain": [
       "        category_list  Automotive & Sports  Blanks  \\\n",
       "0                 NaN                    0       1   \n",
       "1                  3D                    0       0   \n",
       "2         3D Printing                    0       0   \n",
       "3       3D Technology                    0       0   \n",
       "4          Accounting                    0       0   \n",
       "..                ...                  ...     ...   \n",
       "683         Wholesale                    0       0   \n",
       "684  Wine And Spirits                    0       0   \n",
       "685          Wireless                    0       0   \n",
       "686             Women                    0       0   \n",
       "687      Young Adults                    0       0   \n",
       "\n",
       "     Cleantech / Semiconductors  Entertainment  Health  Manufacturing  \\\n",
       "0                             0              0       0              0   \n",
       "1                             0              0       0              1   \n",
       "2                             0              0       0              1   \n",
       "3                             0              0       0              1   \n",
       "4                             0              0       0              0   \n",
       "..                          ...            ...     ...            ...   \n",
       "683                           0              0       0              0   \n",
       "684                           0              1       0              0   \n",
       "685                           0              1       0              0   \n",
       "686                           0              0       0              0   \n",
       "687                           0              0       0              0   \n",
       "\n",
       "     News, Search and Messaging  Others  \\\n",
       "0                             0       0   \n",
       "1                             0       0   \n",
       "2                             0       0   \n",
       "3                             0       0   \n",
       "4                             0       0   \n",
       "..                          ...     ...   \n",
       "683                           0       1   \n",
       "684                           0       0   \n",
       "685                           0       0   \n",
       "686                           0       1   \n",
       "687                           0       1   \n",
       "\n",
       "     Social, Finance, Analytics, Advertising  \n",
       "0                                          0  \n",
       "1                                          0  \n",
       "2                                          0  \n",
       "3                                          0  \n",
       "4                                          1  \n",
       "..                                       ...  \n",
       "683                                        0  \n",
       "684                                        0  \n",
       "685                                        0  \n",
       "686                                        0  \n",
       "687                                        0  \n",
       "\n",
       "[688 rows x 10 columns]"
      ]
     },
     "execution_count": 30,
     "metadata": {},
     "output_type": "execute_result"
    }
   ],
   "source": [
    "mapping"
   ]
  },
  {
   "cell_type": "code",
   "execution_count": 31,
   "id": "00582593",
   "metadata": {},
   "outputs": [
    {
     "data": {
      "text/plain": [
       "category_list                              1\n",
       "Automotive & Sports                        0\n",
       "Blanks                                     0\n",
       "Cleantech / Semiconductors                 0\n",
       "Entertainment                              0\n",
       "Health                                     0\n",
       "Manufacturing                              0\n",
       "News, Search and Messaging                 0\n",
       "Others                                     0\n",
       "Social, Finance, Analytics, Advertising    0\n",
       "dtype: int64"
      ]
     },
     "execution_count": 31,
     "metadata": {},
     "output_type": "execute_result"
    }
   ],
   "source": [
    "mapping.isnull().sum()"
   ]
  },
  {
   "cell_type": "code",
   "execution_count": 32,
   "id": "5e3c8e8e",
   "metadata": {},
   "outputs": [],
   "source": [
    "mapping = mapping.dropna()"
   ]
  },
  {
   "cell_type": "code",
   "execution_count": 33,
   "id": "809d09f2",
   "metadata": {},
   "outputs": [
    {
     "data": {
      "text/plain": [
       "category_list                              0\n",
       "Automotive & Sports                        0\n",
       "Blanks                                     0\n",
       "Cleantech / Semiconductors                 0\n",
       "Entertainment                              0\n",
       "Health                                     0\n",
       "Manufacturing                              0\n",
       "News, Search and Messaging                 0\n",
       "Others                                     0\n",
       "Social, Finance, Analytics, Advertising    0\n",
       "dtype: int64"
      ]
     },
     "execution_count": 33,
     "metadata": {},
     "output_type": "execute_result"
    }
   ],
   "source": [
    "mapping.isnull().sum()"
   ]
  },
  {
   "cell_type": "code",
   "execution_count": 34,
   "id": "f8d733cf",
   "metadata": {},
   "outputs": [
    {
     "data": {
      "text/html": [
       "<div>\n",
       "<style scoped>\n",
       "    .dataframe tbody tr th:only-of-type {\n",
       "        vertical-align: middle;\n",
       "    }\n",
       "\n",
       "    .dataframe tbody tr th {\n",
       "        vertical-align: top;\n",
       "    }\n",
       "\n",
       "    .dataframe thead th {\n",
       "        text-align: right;\n",
       "    }\n",
       "</style>\n",
       "<table border=\"1\" class=\"dataframe\">\n",
       "  <thead>\n",
       "    <tr style=\"text-align: right;\">\n",
       "      <th></th>\n",
       "      <th>category_list</th>\n",
       "      <th>Main_Sector</th>\n",
       "      <th>value</th>\n",
       "    </tr>\n",
       "  </thead>\n",
       "  <tbody>\n",
       "    <tr>\n",
       "      <th>7</th>\n",
       "      <td>Adventure Travel</td>\n",
       "      <td>Automotive &amp; Sports</td>\n",
       "      <td>1</td>\n",
       "    </tr>\n",
       "    <tr>\n",
       "      <th>13</th>\n",
       "      <td>Aerospace</td>\n",
       "      <td>Automotive &amp; Sports</td>\n",
       "      <td>1</td>\n",
       "    </tr>\n",
       "    <tr>\n",
       "      <th>44</th>\n",
       "      <td>Auto</td>\n",
       "      <td>Automotive &amp; Sports</td>\n",
       "      <td>1</td>\n",
       "    </tr>\n",
       "    <tr>\n",
       "      <th>45</th>\n",
       "      <td>Automated Kiosk</td>\n",
       "      <td>Automotive &amp; Sports</td>\n",
       "      <td>1</td>\n",
       "    </tr>\n",
       "    <tr>\n",
       "      <th>46</th>\n",
       "      <td>Automotive</td>\n",
       "      <td>Automotive &amp; Sports</td>\n",
       "      <td>1</td>\n",
       "    </tr>\n",
       "    <tr>\n",
       "      <th>...</th>\n",
       "      <td>...</td>\n",
       "      <td>...</td>\n",
       "      <td>...</td>\n",
       "    </tr>\n",
       "    <tr>\n",
       "      <th>6112</th>\n",
       "      <td>Social Recruiting</td>\n",
       "      <td>Social, Finance, Analytics, Advertising</td>\n",
       "      <td>1</td>\n",
       "    </tr>\n",
       "    <tr>\n",
       "      <th>6113</th>\n",
       "      <td>Social Television</td>\n",
       "      <td>Social, Finance, Analytics, Advertising</td>\n",
       "      <td>1</td>\n",
       "    </tr>\n",
       "    <tr>\n",
       "      <th>6114</th>\n",
       "      <td>Social Travel</td>\n",
       "      <td>Social, Finance, Analytics, Advertising</td>\n",
       "      <td>1</td>\n",
       "    </tr>\n",
       "    <tr>\n",
       "      <th>6125</th>\n",
       "      <td>Stock Exchanges</td>\n",
       "      <td>Social, Finance, Analytics, Advertising</td>\n",
       "      <td>1</td>\n",
       "    </tr>\n",
       "    <tr>\n",
       "      <th>6158</th>\n",
       "      <td>Venture Capital</td>\n",
       "      <td>Social, Finance, Analytics, Advertising</td>\n",
       "      <td>1</td>\n",
       "    </tr>\n",
       "  </tbody>\n",
       "</table>\n",
       "<p>687 rows × 3 columns</p>\n",
       "</div>"
      ],
      "text/plain": [
       "          category_list                              Main_Sector  value\n",
       "7      Adventure Travel                      Automotive & Sports      1\n",
       "13            Aerospace                      Automotive & Sports      1\n",
       "44                 Auto                      Automotive & Sports      1\n",
       "45      Automated Kiosk                      Automotive & Sports      1\n",
       "46           Automotive                      Automotive & Sports      1\n",
       "...                 ...                                      ...    ...\n",
       "6112  Social Recruiting  Social, Finance, Analytics, Advertising      1\n",
       "6113  Social Television  Social, Finance, Analytics, Advertising      1\n",
       "6114      Social Travel  Social, Finance, Analytics, Advertising      1\n",
       "6125    Stock Exchanges  Social, Finance, Analytics, Advertising      1\n",
       "6158    Venture Capital  Social, Finance, Analytics, Advertising      1\n",
       "\n",
       "[687 rows x 3 columns]"
      ]
     },
     "execution_count": 34,
     "metadata": {},
     "output_type": "execute_result"
    }
   ],
   "source": [
    "mapping1=pd.melt(mapping,id_vars=['category_list'],var_name='Main_Sector')\n",
    "mapping1=mapping1[mapping1['value']==1]\n",
    "mapping1"
   ]
  },
  {
   "cell_type": "code",
   "execution_count": 35,
   "id": "451cc835",
   "metadata": {},
   "outputs": [
    {
     "data": {
      "text/html": [
       "<div>\n",
       "<style scoped>\n",
       "    .dataframe tbody tr th:only-of-type {\n",
       "        vertical-align: middle;\n",
       "    }\n",
       "\n",
       "    .dataframe tbody tr th {\n",
       "        vertical-align: top;\n",
       "    }\n",
       "\n",
       "    .dataframe thead th {\n",
       "        text-align: right;\n",
       "    }\n",
       "</style>\n",
       "<table border=\"1\" class=\"dataframe\">\n",
       "  <thead>\n",
       "    <tr style=\"text-align: right;\">\n",
       "      <th></th>\n",
       "      <th>company_permalink</th>\n",
       "      <th>funding_round_type</th>\n",
       "      <th>raised_amount_usd</th>\n",
       "      <th>name</th>\n",
       "      <th>Primary_Sector</th>\n",
       "      <th>country_code</th>\n",
       "      <th>Main_Sector</th>\n",
       "      <th>value</th>\n",
       "    </tr>\n",
       "  </thead>\n",
       "  <tbody>\n",
       "    <tr>\n",
       "      <th>0</th>\n",
       "      <td>/organization/-fame</td>\n",
       "      <td>venture</td>\n",
       "      <td>10.000000</td>\n",
       "      <td>#fame</td>\n",
       "      <td>Media</td>\n",
       "      <td>IND</td>\n",
       "      <td>Entertainment</td>\n",
       "      <td>1</td>\n",
       "    </tr>\n",
       "    <tr>\n",
       "      <th>1</th>\n",
       "      <td>/organization/90min</td>\n",
       "      <td>venture</td>\n",
       "      <td>15.000000</td>\n",
       "      <td>90min</td>\n",
       "      <td>Media</td>\n",
       "      <td>GBR</td>\n",
       "      <td>Entertainment</td>\n",
       "      <td>1</td>\n",
       "    </tr>\n",
       "    <tr>\n",
       "      <th>2</th>\n",
       "      <td>/organization/90min</td>\n",
       "      <td>venture</td>\n",
       "      <td>5.800000</td>\n",
       "      <td>90min</td>\n",
       "      <td>Media</td>\n",
       "      <td>GBR</td>\n",
       "      <td>Entertainment</td>\n",
       "      <td>1</td>\n",
       "    </tr>\n",
       "    <tr>\n",
       "      <th>3</th>\n",
       "      <td>/organization/90min</td>\n",
       "      <td>venture</td>\n",
       "      <td>18.000000</td>\n",
       "      <td>90min</td>\n",
       "      <td>Media</td>\n",
       "      <td>GBR</td>\n",
       "      <td>Entertainment</td>\n",
       "      <td>1</td>\n",
       "    </tr>\n",
       "    <tr>\n",
       "      <th>4</th>\n",
       "      <td>/organization/all-def-digital</td>\n",
       "      <td>venture</td>\n",
       "      <td>5.000000</td>\n",
       "      <td>All Def Digital</td>\n",
       "      <td>Media</td>\n",
       "      <td>USA</td>\n",
       "      <td>Entertainment</td>\n",
       "      <td>1</td>\n",
       "    </tr>\n",
       "    <tr>\n",
       "      <th>...</th>\n",
       "      <td>...</td>\n",
       "      <td>...</td>\n",
       "      <td>...</td>\n",
       "      <td>...</td>\n",
       "      <td>...</td>\n",
       "      <td>...</td>\n",
       "      <td>...</td>\n",
       "      <td>...</td>\n",
       "    </tr>\n",
       "    <tr>\n",
       "      <th>44687</th>\n",
       "      <td>/organization/yapta</td>\n",
       "      <td>venture</td>\n",
       "      <td>4.220000</td>\n",
       "      <td>Yapta</td>\n",
       "      <td>Tracking</td>\n",
       "      <td>USA</td>\n",
       "      <td>Others</td>\n",
       "      <td>1</td>\n",
       "    </tr>\n",
       "    <tr>\n",
       "      <th>44688</th>\n",
       "      <td>/organization/yapta</td>\n",
       "      <td>venture</td>\n",
       "      <td>2.000000</td>\n",
       "      <td>Yapta</td>\n",
       "      <td>Tracking</td>\n",
       "      <td>USA</td>\n",
       "      <td>Others</td>\n",
       "      <td>1</td>\n",
       "    </tr>\n",
       "    <tr>\n",
       "      <th>44689</th>\n",
       "      <td>/organization/yapta</td>\n",
       "      <td>venture</td>\n",
       "      <td>1.786563</td>\n",
       "      <td>Yapta</td>\n",
       "      <td>Tracking</td>\n",
       "      <td>USA</td>\n",
       "      <td>Others</td>\n",
       "      <td>1</td>\n",
       "    </tr>\n",
       "    <tr>\n",
       "      <th>44690</th>\n",
       "      <td>/organization/yunnan-landsun-green-industry-gr...</td>\n",
       "      <td>venture</td>\n",
       "      <td>7.227332</td>\n",
       "      <td>Yunnan Landsun Green Industry (Group)</td>\n",
       "      <td>Tea</td>\n",
       "      <td>CHN</td>\n",
       "      <td>Others</td>\n",
       "      <td>1</td>\n",
       "    </tr>\n",
       "    <tr>\n",
       "      <th>44691</th>\n",
       "      <td>/organization/ziftit</td>\n",
       "      <td>venture</td>\n",
       "      <td>4.000000</td>\n",
       "      <td>Ziftit</td>\n",
       "      <td>Gift Registries</td>\n",
       "      <td>USA</td>\n",
       "      <td>Others</td>\n",
       "      <td>1</td>\n",
       "    </tr>\n",
       "  </tbody>\n",
       "</table>\n",
       "<p>44692 rows × 8 columns</p>\n",
       "</div>"
      ],
      "text/plain": [
       "                                       company_permalink funding_round_type  \\\n",
       "0                                    /organization/-fame            venture   \n",
       "1                                    /organization/90min            venture   \n",
       "2                                    /organization/90min            venture   \n",
       "3                                    /organization/90min            venture   \n",
       "4                          /organization/all-def-digital            venture   \n",
       "...                                                  ...                ...   \n",
       "44687                                /organization/yapta            venture   \n",
       "44688                                /organization/yapta            venture   \n",
       "44689                                /organization/yapta            venture   \n",
       "44690  /organization/yunnan-landsun-green-industry-gr...            venture   \n",
       "44691                               /organization/ziftit            venture   \n",
       "\n",
       "       raised_amount_usd                                   name  \\\n",
       "0              10.000000                                  #fame   \n",
       "1              15.000000                                  90min   \n",
       "2               5.800000                                  90min   \n",
       "3              18.000000                                  90min   \n",
       "4               5.000000                        All Def Digital   \n",
       "...                  ...                                    ...   \n",
       "44687           4.220000                                  Yapta   \n",
       "44688           2.000000                                  Yapta   \n",
       "44689           1.786563                                  Yapta   \n",
       "44690           7.227332  Yunnan Landsun Green Industry (Group)   \n",
       "44691           4.000000                                 Ziftit   \n",
       "\n",
       "        Primary_Sector country_code    Main_Sector  value  \n",
       "0                Media          IND  Entertainment      1  \n",
       "1                Media          GBR  Entertainment      1  \n",
       "2                Media          GBR  Entertainment      1  \n",
       "3                Media          GBR  Entertainment      1  \n",
       "4                Media          USA  Entertainment      1  \n",
       "...                ...          ...            ...    ...  \n",
       "44687         Tracking          USA         Others      1  \n",
       "44688         Tracking          USA         Others      1  \n",
       "44689         Tracking          USA         Others      1  \n",
       "44690              Tea          CHN         Others      1  \n",
       "44691  Gift Registries          USA         Others      1  \n",
       "\n",
       "[44692 rows x 8 columns]"
      ]
     },
     "execution_count": 35,
     "metadata": {},
     "output_type": "execute_result"
    }
   ],
   "source": [
    "sector_df=pd.merge(master_frame2,mapping1,left_on='category_list',right_on='category_list')\n",
    "\n",
    "# Renaming the columns\n",
    "sector_df=sector_df.rename(columns={'category_list':'Primary_Sector'})\n",
    "sector_df"
   ]
  },
  {
   "cell_type": "code",
   "execution_count": 36,
   "id": "3ad22f7c",
   "metadata": {},
   "outputs": [
    {
     "data": {
      "text/plain": [
       "array(['Entertainment', 'News, Search and Messaging',\n",
       "       'Cleantech / Semiconductors', 'Others', 'Health',\n",
       "       'Social, Finance, Analytics, Advertising', 'Manufacturing',\n",
       "       'Automotive & Sports'], dtype=object)"
      ]
     },
     "execution_count": 36,
     "metadata": {},
     "output_type": "execute_result"
    }
   ],
   "source": [
    "sector_df[\"Main_Sector\"].unique()"
   ]
  },
  {
   "cell_type": "markdown",
   "id": "3933c25f",
   "metadata": {},
   "source": [
    "### Checkpoint 5: Sector Analysis 2"
   ]
  },
  {
   "cell_type": "markdown",
   "id": "1a548691",
   "metadata": {},
   "source": [
    "1. Create three separate data frames D1, D2 and D3 for each of the three countries containing the observations of funding type FT falling within the 5-15 million USD range. \n",
    "- The three data frames should contain:  All the columns of the master_frame along with the primary sector and the main sector \n",
    "- The total number (or count) of investments for each main sector in a separate column \n",
    "- The total amount invested in each main sector in a separate column"
   ]
  },
  {
   "cell_type": "markdown",
   "id": "a4e2008c",
   "metadata": {},
   "source": [
    "##### Here the three countries are USA,GBR and IND so lets name it as\n",
    "- D1 = USA\n",
    "- D2 = GBR\n",
    "- D3 = IND"
   ]
  },
  {
   "cell_type": "code",
   "execution_count": 37,
   "id": "ac3d21aa",
   "metadata": {},
   "outputs": [],
   "source": [
    "D1=sector_df[sector_df['country_code']=='USA']\n",
    "D1 = D1[(D1['raised_amount_usd'] >= 5) & (D1['raised_amount_usd'] <= 15)]"
   ]
  },
  {
   "cell_type": "code",
   "execution_count": 38,
   "id": "dedbe6bc",
   "metadata": {},
   "outputs": [],
   "source": [
    "#D1"
   ]
  },
  {
   "cell_type": "code",
   "execution_count": 39,
   "id": "d6ef4e2d",
   "metadata": {},
   "outputs": [
    {
     "name": "stdout",
     "output_type": "stream",
     "text": [
      "Total Amount of Investment in USA 99661.52 Millon USD\n"
     ]
    }
   ],
   "source": [
    "a1 = round(D1.raised_amount_usd.sum(),2)\n",
    "print(\"Total Amount of Investment in USA\", a1, \"Millon USD\")"
   ]
  },
  {
   "cell_type": "code",
   "execution_count": 40,
   "id": "773050cb",
   "metadata": {},
   "outputs": [
    {
     "name": "stdout",
     "output_type": "stream",
     "text": [
      "Total Number of Investments in USA 11149\n"
     ]
    }
   ],
   "source": [
    "a2 = D1.raised_amount_usd.count()\n",
    "print(\"Total Number of Investments in USA\", a2)"
   ]
  },
  {
   "cell_type": "code",
   "execution_count": 41,
   "id": "a6640e01",
   "metadata": {},
   "outputs": [
    {
     "name": "stdout",
     "output_type": "stream",
     "text": [
      "Number of Investment per sector in USA\n"
     ]
    },
    {
     "data": {
      "text/plain": [
       "Main_Sector\n",
       "Others                                     2923\n",
       "Cleantech / Semiconductors                 2297\n",
       "Social, Finance, Analytics, Advertising    1912\n",
       "News, Search and Messaging                 1563\n",
       "Health                                      908\n",
       "Manufacturing                               799\n",
       "Entertainment                               580\n",
       "Automotive & Sports                         167\n",
       "Name: raised_amount_usd, dtype: int64"
      ]
     },
     "execution_count": 41,
     "metadata": {},
     "output_type": "execute_result"
    }
   ],
   "source": [
    "D1_sector=D1.groupby('Main_Sector')\n",
    "print(\"Number of Investment per sector in USA\")\n",
    "D1_sector['raised_amount_usd'].count().sort_values(ascending = False)"
   ]
  },
  {
   "cell_type": "code",
   "execution_count": 42,
   "id": "04f8abcc",
   "metadata": {},
   "outputs": [
    {
     "name": "stdout",
     "output_type": "stream",
     "text": [
      "Total invested amount per sector in USA\n"
     ]
    },
    {
     "data": {
      "text/plain": [
       "Main_Sector\n",
       "Others                                     26089.280296\n",
       "Cleantech / Semiconductors                 21181.003033\n",
       "Social, Finance, Analytics, Advertising    16680.695048\n",
       "News, Search and Messaging                 13796.816094\n",
       "Health                                      8200.859357\n",
       "Manufacturing                               7258.553378\n",
       "Entertainment                               5000.212982\n",
       "Automotive & Sports                         1454.104361\n",
       "Name: raised_amount_usd, dtype: float64"
      ]
     },
     "execution_count": 42,
     "metadata": {},
     "output_type": "execute_result"
    }
   ],
   "source": [
    "print(\"Total invested amount per sector in USA\")\n",
    "D1_sector['raised_amount_usd'].sum().sort_values(ascending = False)"
   ]
  },
  {
   "cell_type": "code",
   "execution_count": 43,
   "id": "e11078b1",
   "metadata": {},
   "outputs": [
    {
     "name": "stdout",
     "output_type": "stream",
     "text": [
      "Company with most number of investment in top sector in USA\n"
     ]
    },
    {
     "data": {
      "text/plain": [
       "Main_Sector  company_permalink    \n",
       "Others       /organization/capella    6\n",
       "Name: raised_amount_usd, dtype: int64"
      ]
     },
     "execution_count": 43,
     "metadata": {},
     "output_type": "execute_result"
    }
   ],
   "source": [
    "\n",
    "print(\"Company with most number of investment in top sector in USA\")\n",
    "D1[D1['Main_Sector']=='Others'].groupby(['Main_Sector','company_permalink']).raised_amount_usd.count().sort_values(ascending=False).head(1)"
   ]
  },
  {
   "cell_type": "code",
   "execution_count": 44,
   "id": "25ca6f5b",
   "metadata": {},
   "outputs": [
    {
     "name": "stdout",
     "output_type": "stream",
     "text": [
      "Company with most number of investment in second top sector in USA\n"
     ]
    },
    {
     "data": {
      "text/plain": [
       "Main_Sector                 company_permalink        \n",
       "Cleantech / Semiconductors  /organization/tigo-energy    8\n",
       "Name: raised_amount_usd, dtype: int64"
      ]
     },
     "execution_count": 44,
     "metadata": {},
     "output_type": "execute_result"
    }
   ],
   "source": [
    "print(\"Company with most number of investment in second top sector in USA\")\n",
    "D1[D1['Main_Sector']=='Cleantech / Semiconductors'].groupby(['Main_Sector','company_permalink']).raised_amount_usd.count().sort_values(ascending=False).head(1)"
   ]
  },
  {
   "cell_type": "markdown",
   "id": "e9f655fa",
   "metadata": {},
   "source": [
    "##### Second Country D2 = GBR (United Kingdom)"
   ]
  },
  {
   "cell_type": "code",
   "execution_count": 45,
   "id": "7026e8a4",
   "metadata": {},
   "outputs": [],
   "source": [
    "D2=sector_df[sector_df['country_code']=='GBR']\n",
    "D2 = D2[(D2['raised_amount_usd'] >= 5) & (D2['raised_amount_usd'] <= 15)]"
   ]
  },
  {
   "cell_type": "code",
   "execution_count": 46,
   "id": "0a3ccf50",
   "metadata": {},
   "outputs": [
    {
     "name": "stdout",
     "output_type": "stream",
     "text": [
      "Total Amount of Investment in GBR(United Kingdom) is 5028.7 Millon USD\n"
     ]
    }
   ],
   "source": [
    "b1 = round(D2.raised_amount_usd.sum(),2)\n",
    "print(\"Total Amount of Investment in GBR(United Kingdom) is\", b1, \"Millon USD\")"
   ]
  },
  {
   "cell_type": "code",
   "execution_count": 47,
   "id": "816de390",
   "metadata": {},
   "outputs": [
    {
     "name": "stdout",
     "output_type": "stream",
     "text": [
      "Total Number of Investments in GBR(United Kingdom) are 577\n"
     ]
    }
   ],
   "source": [
    "b2 = D2.raised_amount_usd.count()\n",
    "print(\"Total Number of Investments in GBR(United Kingdom) are\", b2)"
   ]
  },
  {
   "cell_type": "code",
   "execution_count": 48,
   "id": "c1d17c18",
   "metadata": {},
   "outputs": [
    {
     "name": "stdout",
     "output_type": "stream",
     "text": [
      "Number of Investment per sector in GBR(United Kingdom)\n"
     ]
    },
    {
     "data": {
      "text/plain": [
       "Main_Sector\n",
       "Others                                     143\n",
       "Cleantech / Semiconductors                 127\n",
       "Social, Finance, Analytics, Advertising     98\n",
       "News, Search and Messaging                  73\n",
       "Entertainment                               54\n",
       "Manufacturing                               42\n",
       "Health                                      24\n",
       "Automotive & Sports                         16\n",
       "Name: raised_amount_usd, dtype: int64"
      ]
     },
     "execution_count": 48,
     "metadata": {},
     "output_type": "execute_result"
    }
   ],
   "source": [
    "D2_sector=D2.groupby('Main_Sector')\n",
    "print(\"Number of Investment per sector in GBR(United Kingdom)\")\n",
    "D2_sector['raised_amount_usd'].count().sort_values(ascending = False)"
   ]
  },
  {
   "cell_type": "code",
   "execution_count": 49,
   "id": "0aba8f2f",
   "metadata": {},
   "outputs": [
    {
     "name": "stdout",
     "output_type": "stream",
     "text": [
      "Total invested amount per sector in GBR(United Kingdom)\n"
     ]
    },
    {
     "data": {
      "text/plain": [
       "Main_Sector\n",
       "Others                                     1249.124289\n",
       "Cleantech / Semiconductors                 1136.905008\n",
       "Social, Finance, Analytics, Advertising     821.888357\n",
       "News, Search and Messaging                  615.746235\n",
       "Entertainment                               461.511059\n",
       "Manufacturing                               361.940335\n",
       "Health                                      214.537510\n",
       "Automotive & Sports                         167.051565\n",
       "Name: raised_amount_usd, dtype: float64"
      ]
     },
     "execution_count": 49,
     "metadata": {},
     "output_type": "execute_result"
    }
   ],
   "source": [
    "print(\"Total invested amount per sector in GBR(United Kingdom)\")\n",
    "D2_sector['raised_amount_usd'].sum().sort_values(ascending = False)"
   ]
  },
  {
   "cell_type": "code",
   "execution_count": 50,
   "id": "542d045b",
   "metadata": {},
   "outputs": [
    {
     "name": "stdout",
     "output_type": "stream",
     "text": [
      "Company with most number of investment in top sector in GBR(United Kingdom)\n"
     ]
    },
    {
     "data": {
      "text/plain": [
       "Main_Sector  company_permalink    \n",
       "Others       /organization/sensage    4\n",
       "Name: raised_amount_usd, dtype: int64"
      ]
     },
     "execution_count": 50,
     "metadata": {},
     "output_type": "execute_result"
    }
   ],
   "source": [
    "print(\"Company with most number of investment in top sector in GBR(United Kingdom)\")\n",
    "D2[D2['Main_Sector']=='Others'].groupby(['Main_Sector','company_permalink']).raised_amount_usd.count().sort_values(ascending=False).head(1)"
   ]
  },
  {
   "cell_type": "code",
   "execution_count": 51,
   "id": "39e11c37",
   "metadata": {},
   "outputs": [
    {
     "name": "stdout",
     "output_type": "stream",
     "text": [
      "Company with most number of investment in second top sector in GBR(United Kingdom)\n"
     ]
    },
    {
     "data": {
      "text/plain": [
       "Main_Sector                 company_permalink                                                          \n",
       "Cleantech / Semiconductors  /organization/f-star-biotechnologische-forschungs-und-entwicklungsges-m-b-h    3\n",
       "Name: raised_amount_usd, dtype: int64"
      ]
     },
     "execution_count": 51,
     "metadata": {},
     "output_type": "execute_result"
    }
   ],
   "source": [
    "print(\"Company with most number of investment in second top sector in GBR(United Kingdom)\")\n",
    "D2[D2['Main_Sector']=='Cleantech / Semiconductors'].groupby(['Main_Sector','company_permalink']).raised_amount_usd.count().sort_values(ascending=False).head(1)"
   ]
  },
  {
   "cell_type": "markdown",
   "id": "7ad84720",
   "metadata": {},
   "source": [
    "#### Third Country D3 = IND (India)"
   ]
  },
  {
   "cell_type": "code",
   "execution_count": 52,
   "id": "e63245c1",
   "metadata": {},
   "outputs": [],
   "source": [
    "D3=sector_df[sector_df['country_code']=='IND']\n",
    "D3 = D3[(D3['raised_amount_usd'] >= 5) & (D3['raised_amount_usd'] <= 15)]"
   ]
  },
  {
   "cell_type": "code",
   "execution_count": 53,
   "id": "f6abcc1c",
   "metadata": {},
   "outputs": [
    {
     "name": "stdout",
     "output_type": "stream",
     "text": [
      "Total Amount of Investment in IND (India) is 2683.54 Millon USD\n"
     ]
    }
   ],
   "source": [
    "c1 = round(D3.raised_amount_usd.sum(),2)\n",
    "print(\"Total Amount of Investment in IND (India) is\", c1, \"Millon USD\")"
   ]
  },
  {
   "cell_type": "code",
   "execution_count": 54,
   "id": "0b41d1e3",
   "metadata": {},
   "outputs": [
    {
     "name": "stdout",
     "output_type": "stream",
     "text": [
      "Total Number of Investments in IND (India) are 299\n"
     ]
    }
   ],
   "source": [
    "c2 = D3.raised_amount_usd.count()\n",
    "print(\"Total Number of Investments in IND (India) are\", c2)"
   ]
  },
  {
   "cell_type": "code",
   "execution_count": 55,
   "id": "05418a64",
   "metadata": {},
   "outputs": [
    {
     "name": "stdout",
     "output_type": "stream",
     "text": [
      "Number of Investment per sector in IND (India)\n"
     ]
    },
    {
     "data": {
      "text/plain": [
       "Main_Sector\n",
       "Others                                     109\n",
       "News, Search and Messaging                  52\n",
       "Entertainment                               33\n",
       "Social, Finance, Analytics, Advertising     32\n",
       "Manufacturing                               21\n",
       "Cleantech / Semiconductors                  20\n",
       "Health                                      19\n",
       "Automotive & Sports                         13\n",
       "Name: raised_amount_usd, dtype: int64"
      ]
     },
     "execution_count": 55,
     "metadata": {},
     "output_type": "execute_result"
    }
   ],
   "source": [
    "D3_sector=D3.groupby('Main_Sector')\n",
    "print(\"Number of Investment per sector in IND (India)\")\n",
    "D3_sector['raised_amount_usd'].count().sort_values(ascending = False)"
   ]
  },
  {
   "cell_type": "code",
   "execution_count": 56,
   "id": "3234a7a3",
   "metadata": {},
   "outputs": [
    {
     "name": "stdout",
     "output_type": "stream",
     "text": [
      "Total invested amount per sector in IND (India)\n"
     ]
    },
    {
     "data": {
      "text/plain": [
       "Main_Sector\n",
       "Others                                     1007.409507\n",
       "News, Search and Messaging                  433.834545\n",
       "Social, Finance, Analytics, Advertising     290.543500\n",
       "Entertainment                               280.830000\n",
       "Manufacturing                               200.900000\n",
       "Health                                      167.740000\n",
       "Cleantech / Semiconductors                  165.380000\n",
       "Automotive & Sports                         136.900000\n",
       "Name: raised_amount_usd, dtype: float64"
      ]
     },
     "execution_count": 56,
     "metadata": {},
     "output_type": "execute_result"
    }
   ],
   "source": [
    "print(\"Total invested amount per sector in IND (India)\")\n",
    "D3_sector['raised_amount_usd'].sum().sort_values(ascending = False)"
   ]
  },
  {
   "cell_type": "code",
   "execution_count": 57,
   "id": "b6f0d6e2",
   "metadata": {},
   "outputs": [
    {
     "name": "stdout",
     "output_type": "stream",
     "text": [
      "Company with most number of investment in top sector in IND (India)\n"
     ]
    },
    {
     "data": {
      "text/plain": [
       "Main_Sector  company_permalink   \n",
       "Others       /organization/myntra    4\n",
       "Name: raised_amount_usd, dtype: int64"
      ]
     },
     "execution_count": 57,
     "metadata": {},
     "output_type": "execute_result"
    }
   ],
   "source": [
    "print(\"Company with most number of investment in top sector in IND (India)\")\n",
    "D3[D3['Main_Sector']=='Others'].groupby(['Main_Sector','company_permalink']).raised_amount_usd.count().sort_values(ascending=False).head(1)"
   ]
  },
  {
   "cell_type": "code",
   "execution_count": 58,
   "id": "a1d4ae3f",
   "metadata": {},
   "outputs": [
    {
     "name": "stdout",
     "output_type": "stream",
     "text": [
      "Company with most number of investment in second top sector in IND (India)\n"
     ]
    },
    {
     "data": {
      "text/plain": [
       "Main_Sector                 company_permalink                             \n",
       "News, Search and Messaging  /organization/gupshup-technology-india-pvt-ltd    3\n",
       "Name: raised_amount_usd, dtype: int64"
      ]
     },
     "execution_count": 58,
     "metadata": {},
     "output_type": "execute_result"
    }
   ],
   "source": [
    "print(\"Company with most number of investment in second top sector in IND (India)\")\n",
    "D3[D3['Main_Sector']=='News, Search and Messaging'].groupby(['Main_Sector','company_permalink']).raised_amount_usd.count().sort_values(ascending=False).head(1)"
   ]
  },
  {
   "cell_type": "markdown",
   "id": "4d62e397",
   "metadata": {},
   "source": [
    "### Checkpoint 6: Plots"
   ]
  },
  {
   "cell_type": "markdown",
   "id": "2854fd08",
   "metadata": {},
   "source": [
    "1. A plot showing the fraction of total investments (globally) in venture, seed, and private equity, and the average amount of investment in each funding type. This chart should make it clear that a certain funding type (FT) is best suited for Spark Funds. \n",
    "2. A plot showing the top 9 countries against the total amount of investments of funding type FT. This should make the top 3 countries (Country 1, Country 2, and Country 3) very clear. \n",
    "3. A plot showing the number of investments in the top 3 sectors of the top 3 countries on one chart (for the chosen investment type FT). This This plot should clearly display the top 3 sectors each in Country 1, Country 2, and Country 3."
   ]
  },
  {
   "cell_type": "code",
   "execution_count": 59,
   "id": "182d9c6d",
   "metadata": {},
   "outputs": [],
   "source": [
    "plot_df = master_frame1[master_frame1['funding_round_type'].isin(['venture','seed','angel','private_equity'])]"
   ]
  },
  {
   "cell_type": "code",
   "execution_count": 60,
   "id": "86d17d97",
   "metadata": {},
   "outputs": [
    {
     "data": {
      "image/png": "[encoded data removed]",
      "text/plain": [
       "<Figure size 864x432 with 2 Axes>"
      ]
     },
     "metadata": {
      "needs_background": "light"
     },
     "output_type": "display_data"
    }
   ],
   "source": [
    "plt.figure(figsize=(12, 6))\n",
    "plt.subplot(1, 2, 1)\n",
    "sns.countplot(x=\"funding_round_type\", data=plot_df)\n",
    "plt.title(\"Total Investments\")\n",
    "plt.subplot(1, 2, 2)\n",
    "sns.barplot(y='raised_amount_usd', x=\"funding_round_type\", data=plot_df, estimator=np.mean, ci = None)\n",
    "plt.title(\"Average Funding in USD\")\n",
    "plt.axhline(y=5000000, linewidth=2, color = 'black')\n",
    "plt.axhline(y=15000000, linewidth=2, color = 'black')\n",
    "plt.show()"
   ]
  },
  {
   "cell_type": "markdown",
   "id": "4312ee4e",
   "metadata": {},
   "source": [
    "- From the graph it is seen that as the Venture has highest number of investments and also the average amount raised in Venture type is between 5-15 Million USD which is most suitable for company. "
   ]
  },
  {
   "cell_type": "code",
   "execution_count": 61,
   "id": "666744b5",
   "metadata": {},
   "outputs": [
    {
     "data": {
      "image/png": "[encoded data removed]",
      "text/plain": [
       "<Figure size 864x432 with 1 Axes>"
      ]
     },
     "metadata": {
      "needs_background": "light"
     },
     "output_type": "display_data"
    }
   ],
   "source": [
    "plt.figure(figsize=(12, 6))\n",
    "plot2 = sns.barplot(x='country_code' ,y='raised_amount_usd' , data = top9, ci =None, palette='twilight')\n",
    "plt.show()"
   ]
  },
  {
   "cell_type": "markdown",
   "id": "bba1af59",
   "metadata": {},
   "source": [
    "- These are the top 9 countries with total amount of investments in <b> Venture </b> funding type. "
   ]
  },
  {
   "cell_type": "code",
   "execution_count": 62,
   "id": "07806a50",
   "metadata": {},
   "outputs": [],
   "source": [
    "D1_plot = D1[D1['Main_Sector'].isin([\"Others\",\"Cleantech / Semiconductors\", \"Social, Finance, Analytics, Advertising\"])]\n",
    "D2_plot = D2[D2['Main_Sector'].isin([\"Others\",\"Cleantech / Semiconductors\", \"Social, Finance, Analytics, Advertising\"])]\n",
    "D3_plot = D3[D3['Main_Sector'].isin([\"Others\",\"News, Search and Messaging\", \"Entertainment\"])]\n",
    "\n"
   ]
  },
  {
   "cell_type": "code",
   "execution_count": 63,
   "id": "93edf201",
   "metadata": {},
   "outputs": [
    {
     "data": {
      "image/png": "[encoded data removed]",
      "text/plain": [
       "<Figure size 1440x720 with 1 Axes>"
      ]
     },
     "metadata": {
      "needs_background": "light"
     },
     "output_type": "display_data"
    }
   ],
   "source": [
    "frames = [D1_plot, D2_plot, D3_plot]\n",
    "result = pd.concat(frames)\n",
    "plt.figure(figsize=(20, 10))\n",
    "sns.barplot(x='country_code', y='raised_amount_usd', hue=\"Main_Sector\", data=result, estimator=np.sum, ci=None, palette=\"twilight\")\n",
    "plt.show()"
   ]
  },
  {
   "cell_type": "markdown",
   "id": "133676b3",
   "metadata": {},
   "source": [
    "- These are the top 3 sectors from top 3 countries of Venture funding type.  "
   ]
  },
  {
   "cell_type": "markdown",
   "id": "aa7c46fb",
   "metadata": {},
   "source": [
    "<b>------------------------------------------------------------------------------------------------------------------------------------------------------------------------------------------------------------------</b>"
   ]
  },
  {
   "cell_type": "code",
   "execution_count": 64,
   "id": "0d157ef7",
   "metadata": {},
   "outputs": [],
   "source": [
    "## creating files for tableau\n",
    "\n",
    "#plot_df.to_csv(\"D:/NIIT Tasks/Extra/Spark Funds Industrail Assigment/plot_df/plot_df.csv\")"
   ]
  },
  {
   "cell_type": "code",
   "execution_count": 65,
   "id": "61ae40d2",
   "metadata": {},
   "outputs": [],
   "source": [
    "#result.to_csv(\"D:/NIIT Tasks/Extra/Spark Funds Industrail Assigment/plot_df/result.csv\")"
   ]
  },
  {
   "cell_type": "code",
   "execution_count": 66,
   "id": "6d30614d",
   "metadata": {},
   "outputs": [],
   "source": [
    "#top9.to_csv(\"D:/NIIT Tasks/Extra/Spark Funds Industrail Assigment/plot_df/top9.csv\")"
   ]
  },
  {
   "cell_type": "code",
   "execution_count": null,
   "id": "2c04f666",
   "metadata": {},
   "outputs": [],
   "source": []
  }
 ],
 "metadata": {
  "kernelspec": {
   "display_name": "Python 3 (ipykernel)",
   "language": "python",
   "name": "python3"
  },
  "language_info": {
   "codemirror_mode": {
    "name": "ipython",
    "version": 3
   },
   "file_extension": ".py",
   "mimetype": "text/x-python",
   "name": "python",
   "nbconvert_exporter": "python",
   "pygments_lexer": "ipython3",
   "version": "3.9.12"
  }
 },
 "nbformat": 4,
 "nbformat_minor": 5
}
